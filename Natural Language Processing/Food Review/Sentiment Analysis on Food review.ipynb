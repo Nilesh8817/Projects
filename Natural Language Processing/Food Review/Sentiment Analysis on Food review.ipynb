{
  "nbformat": 4,
  "nbformat_minor": 0,
  "metadata": {
    "colab": {
      "name": "Copy of Food_review.ipynb",
      "provenance": [],
      "collapsed_sections": []
    },
    "kernelspec": {
      "display_name": "Python 3",
      "name": "python3"
    },
    "language_info": {
      "name": "python"
    }
  },
  "cells": [
    {
      "cell_type": "code",
      "metadata": {
        "colab": {
          "base_uri": "https://localhost:8080/"
        },
        "id": "wxeuS1rwYFeW",
        "outputId": "3349466f-a29c-4305-8ca8-fcb24df8aa77"
      },
      "source": [
        "import pandas as pd\n",
        "import numpy as np\n",
        "import matplotlib.pyplot as plt\n",
        "from wordcloud import WordCloud\n",
        " \n",
        "from sklearn.model_selection import train_test_split\n",
        "from tensorflow.keras.preprocessing.text import Tokenizer\n",
        "from tensorflow.keras.preprocessing.sequence import pad_sequences\n",
        "from tensorflow.keras.layers import Dense,Embedding, Flatten, SimpleRNN, Bidirectional, LSTM, GRU\n",
        "from tensorflow.keras.models import Sequential\n",
        " \n",
        "import nltk\n",
        " \n",
        "nltk.download('wordnet') # Lemmatization\n",
        "nltk.download('punkt') # Tokenization \n",
        "nltk.download('stopwords') # stopwords \n",
        " \n",
        " \n",
        "import warnings\n",
        "warnings.filterwarnings(\"ignore\")"
      ],
      "execution_count": 1,
      "outputs": [
        {
          "output_type": "stream",
          "text": [
            "[nltk_data] Downloading package wordnet to /root/nltk_data...\n",
            "[nltk_data]   Unzipping corpora/wordnet.zip.\n",
            "[nltk_data] Downloading package punkt to /root/nltk_data...\n",
            "[nltk_data]   Unzipping tokenizers/punkt.zip.\n",
            "[nltk_data] Downloading package stopwords to /root/nltk_data...\n",
            "[nltk_data]   Unzipping corpora/stopwords.zip.\n"
          ],
          "name": "stdout"
        }
      ]
    },
    {
      "cell_type": "code",
      "metadata": {
        "id": "QsOhmp1oYKoN"
      },
      "source": [
        "df = pd.read_csv(\"/content/drive/MyDrive/food_review.csv\")"
      ],
      "execution_count": 2,
      "outputs": []
    },
    {
      "cell_type": "code",
      "metadata": {
        "colab": {
          "base_uri": "https://localhost:8080/"
        },
        "id": "cd5jO0USYWwa",
        "outputId": "921c6828-88e4-4f95-c038-612c95cf81e7"
      },
      "source": [
        "df.shape"
      ],
      "execution_count": 3,
      "outputs": [
        {
          "output_type": "execute_result",
          "data": {
            "text/plain": [
              "(40500, 3)"
            ]
          },
          "metadata": {
            "tags": []
          },
          "execution_count": 3
        }
      ]
    },
    {
      "cell_type": "code",
      "metadata": {
        "colab": {
          "base_uri": "https://localhost:8080/",
          "height": 204
        },
        "id": "LV2hkBwwYaBq",
        "outputId": "263dbb0d-720e-43db-fc6f-3911219ae67d"
      },
      "source": [
        "df.head()"
      ],
      "execution_count": 4,
      "outputs": [
        {
          "output_type": "execute_result",
          "data": {
            "text/html": [
              "<div>\n",
              "<style scoped>\n",
              "    .dataframe tbody tr th:only-of-type {\n",
              "        vertical-align: middle;\n",
              "    }\n",
              "\n",
              "    .dataframe tbody tr th {\n",
              "        vertical-align: top;\n",
              "    }\n",
              "\n",
              "    .dataframe thead th {\n",
              "        text-align: right;\n",
              "    }\n",
              "</style>\n",
              "<table border=\"1\" class=\"dataframe\">\n",
              "  <thead>\n",
              "    <tr style=\"text-align: right;\">\n",
              "      <th></th>\n",
              "      <th>Unnamed: 0</th>\n",
              "      <th>Text</th>\n",
              "      <th>Score</th>\n",
              "    </tr>\n",
              "  </thead>\n",
              "  <tbody>\n",
              "    <tr>\n",
              "      <th>0</th>\n",
              "      <td>0</td>\n",
              "      <td>I bought these from a large chain pet store. a...</td>\n",
              "      <td>1</td>\n",
              "    </tr>\n",
              "    <tr>\n",
              "      <th>1</th>\n",
              "      <td>1</td>\n",
              "      <td>This soup is incredibly good!  But honestly, I...</td>\n",
              "      <td>5</td>\n",
              "    </tr>\n",
              "    <tr>\n",
              "      <th>2</th>\n",
              "      <td>2</td>\n",
              "      <td>Our family loves these tasty and healthy sesam...</td>\n",
              "      <td>5</td>\n",
              "    </tr>\n",
              "    <tr>\n",
              "      <th>3</th>\n",
              "      <td>3</td>\n",
              "      <td>The local auto shop offers this free to it cus...</td>\n",
              "      <td>4</td>\n",
              "    </tr>\n",
              "    <tr>\n",
              "      <th>4</th>\n",
              "      <td>4</td>\n",
              "      <td>I brought 2 bottles.  One I carry in my pocket...</td>\n",
              "      <td>5</td>\n",
              "    </tr>\n",
              "  </tbody>\n",
              "</table>\n",
              "</div>"
            ],
            "text/plain": [
              "   Unnamed: 0                                               Text  Score\n",
              "0           0  I bought these from a large chain pet store. a...      1\n",
              "1           1  This soup is incredibly good!  But honestly, I...      5\n",
              "2           2  Our family loves these tasty and healthy sesam...      5\n",
              "3           3  The local auto shop offers this free to it cus...      4\n",
              "4           4  I brought 2 bottles.  One I carry in my pocket...      5"
            ]
          },
          "metadata": {
            "tags": []
          },
          "execution_count": 4
        }
      ]
    },
    {
      "cell_type": "code",
      "metadata": {
        "id": "fGW9RUlHYbvJ"
      },
      "source": [
        "df.drop([\"Unnamed: 0\"],axis = 1,inplace=True)"
      ],
      "execution_count": 5,
      "outputs": []
    },
    {
      "cell_type": "code",
      "metadata": {
        "colab": {
          "base_uri": "https://localhost:8080/"
        },
        "id": "gKZEeOyyYkZ0",
        "outputId": "5490ecca-33e0-4ddb-ff5f-b4800a8ba85d"
      },
      "source": [
        "df.isnull().sum()"
      ],
      "execution_count": 6,
      "outputs": [
        {
          "output_type": "execute_result",
          "data": {
            "text/plain": [
              "Text     0\n",
              "Score    0\n",
              "dtype: int64"
            ]
          },
          "metadata": {
            "tags": []
          },
          "execution_count": 6
        }
      ]
    },
    {
      "cell_type": "markdown",
      "metadata": {
        "id": "SK-e8r4EZNc5"
      },
      "source": [
        "Note that there is no point for keeping rows with different scores or sentiment for same review text. So I will keep only one instance and drop the rest of the duplicates.\n"
      ]
    },
    {
      "cell_type": "code",
      "metadata": {
        "colab": {
          "base_uri": "https://localhost:8080/"
        },
        "id": "xeP8lP2xxkIC",
        "outputId": "753a568c-c5a8-40d5-e4fc-fe4f2d32df2e"
      },
      "source": [
        "dup = df[df.duplicated(subset=['Text'],keep=False)]\n",
        "dup.shape"
      ],
      "execution_count": 7,
      "outputs": [
        {
          "output_type": "execute_result",
          "data": {
            "text/plain": [
              "(6729, 2)"
            ]
          },
          "metadata": {
            "tags": []
          },
          "execution_count": 7
        }
      ]
    },
    {
      "cell_type": "code",
      "metadata": {
        "colab": {
          "base_uri": "https://localhost:8080/"
        },
        "id": "IHxd2aSWvuih",
        "outputId": "f59edf3d-2808-4fce-eeab-88c65564ed32"
      },
      "source": [
        "df = df[df['Score'] != 3]\n",
        "df.shape"
      ],
      "execution_count": 8,
      "outputs": [
        {
          "output_type": "execute_result",
          "data": {
            "text/plain": [
              "(32397, 2)"
            ]
          },
          "metadata": {
            "tags": []
          },
          "execution_count": 8
        }
      ]
    },
    {
      "cell_type": "code",
      "metadata": {
        "colab": {
          "base_uri": "https://localhost:8080/",
          "height": 142
        },
        "id": "zVZCVm3ByK6_",
        "outputId": "087afca6-8eca-492d-8c48-ba5f7051ad24"
      },
      "source": [
        "score = df['Score'].apply(lambda x: 1 if x > 3 else 0)\n",
        "df['Score'] = score\n",
        "df.head(3)"
      ],
      "execution_count": 9,
      "outputs": [
        {
          "output_type": "execute_result",
          "data": {
            "text/html": [
              "<div>\n",
              "<style scoped>\n",
              "    .dataframe tbody tr th:only-of-type {\n",
              "        vertical-align: middle;\n",
              "    }\n",
              "\n",
              "    .dataframe tbody tr th {\n",
              "        vertical-align: top;\n",
              "    }\n",
              "\n",
              "    .dataframe thead th {\n",
              "        text-align: right;\n",
              "    }\n",
              "</style>\n",
              "<table border=\"1\" class=\"dataframe\">\n",
              "  <thead>\n",
              "    <tr style=\"text-align: right;\">\n",
              "      <th></th>\n",
              "      <th>Text</th>\n",
              "      <th>Score</th>\n",
              "    </tr>\n",
              "  </thead>\n",
              "  <tbody>\n",
              "    <tr>\n",
              "      <th>0</th>\n",
              "      <td>I bought these from a large chain pet store. a...</td>\n",
              "      <td>0</td>\n",
              "    </tr>\n",
              "    <tr>\n",
              "      <th>1</th>\n",
              "      <td>This soup is incredibly good!  But honestly, I...</td>\n",
              "      <td>1</td>\n",
              "    </tr>\n",
              "    <tr>\n",
              "      <th>2</th>\n",
              "      <td>Our family loves these tasty and healthy sesam...</td>\n",
              "      <td>1</td>\n",
              "    </tr>\n",
              "  </tbody>\n",
              "</table>\n",
              "</div>"
            ],
            "text/plain": [
              "                                                Text  Score\n",
              "0  I bought these from a large chain pet store. a...      0\n",
              "1  This soup is incredibly good!  But honestly, I...      1\n",
              "2  Our family loves these tasty and healthy sesam...      1"
            ]
          },
          "metadata": {
            "tags": []
          },
          "execution_count": 9
        }
      ]
    },
    {
      "cell_type": "code",
      "metadata": {
        "colab": {
          "base_uri": "https://localhost:8080/",
          "height": 404
        },
        "id": "UC0_sV0evuqk",
        "outputId": "27a62dc8-ec2f-4455-d026-8990e02b5f75"
      },
      "source": [
        "import seaborn as sns\n",
        "plt.figure(figsize=(8,6))\n",
        "sns.countplot(df['Score'])\n",
        "plt.title('Target')\n",
        "plt.show()"
      ],
      "execution_count": 10,
      "outputs": [
        {
          "output_type": "display_data",
          "data": {
            "image/png": "[encoded data removed]",
            "text/plain": [
              "<Figure size 576x432 with 1 Axes>"
            ]
          },
          "metadata": {
            "tags": [],
            "needs_background": "light"
          }
        }
      ]
    },
    {
      "cell_type": "code",
      "metadata": {
        "colab": {
          "base_uri": "https://localhost:8080/"
        },
        "id": "x4DuEPhqvgGu",
        "outputId": "764d6ae2-e1e8-4fa4-d6e5-9527632475c8"
      },
      "source": [
        "df['Score'].value_counts()"
      ],
      "execution_count": 11,
      "outputs": [
        {
          "output_type": "execute_result",
          "data": {
            "text/plain": [
              "1    16223\n",
              "0    16174\n",
              "Name: Score, dtype: int64"
            ]
          },
          "metadata": {
            "tags": []
          },
          "execution_count": 11
        }
      ]
    },
    {
      "cell_type": "code",
      "metadata": {
        "id": "7YEl56TzvgL5"
      },
      "source": [
        "def decontract(text):\n",
        "    text = re.sub(r\"won\\'t\", \"will not\", text)\n",
        "    text = re.sub(r\"can\\'t\", \"can not\", text)\n",
        "    text = re.sub(r\"n\\'t\", \" not\", text)\n",
        "    text = re.sub(r\"\\'re\", \" are\", text)\n",
        "    text = re.sub(r\"\\'s\", \" is\", text)\n",
        "    text = re.sub(r\"\\'d\", \" would\", text)\n",
        "    text = re.sub(r\"\\'ll\", \" will\", text)\n",
        "    text = re.sub(r\"\\'t\", \" not\", text)\n",
        "    text = re.sub(r\"\\'ve\", \" have\", text)\n",
        "    text = re.sub(r\"\\'m\", \" am\", text)\n",
        "    return text"
      ],
      "execution_count": 12,
      "outputs": []
    },
    {
      "cell_type": "code",
      "metadata": {
        "id": "27FTe7WgvgRc"
      },
      "source": [
        "from nltk.corpus import stopwords\n",
        "stop_words= set(stopwords.words(\"english\"))"
      ],
      "execution_count": 13,
      "outputs": []
    },
    {
      "cell_type": "code",
      "metadata": {
        "id": "M7P6EwOqvgUx"
      },
      "source": [
        "from nltk.stem import WordNetLemmatizer\n",
        "lemmatizer = WordNetLemmatizer()"
      ],
      "execution_count": 14,
      "outputs": []
    },
    {
      "cell_type": "code",
      "metadata": {
        "id": "t_L5oYDkvgae"
      },
      "source": [
        "import re\n",
        "from bs4 import BeautifulSoup\n",
        "def preprocess_text(review):\n",
        "    review = re.sub(r\"http\\S+\", \"\", review)             # removing website links\n",
        "    review = BeautifulSoup(review, 'lxml').get_text()   # removing html tags\n",
        "    review = decontract(review)                         # decontracting\n",
        "    review = re.sub(\"\\S*\\d\\S*\", \"\", review).strip()     # removing the words with numeric digits\n",
        "    review = re.sub('[^A-Za-z]+', ' ', review)          # removing non-word characters\n",
        "    review = review.lower()                             # converting to lower case\n",
        "    review = [word for word in review.split(\" \") if not word in stop_words] # removing stop words\n",
        "    review = [lemmatizer.lemmatize(token, \"v\") for token in review] #Lemmatization\n",
        "    review = \" \".join(review)\n",
        "    review.strip()\n",
        "    return review\n",
        "df['Text'] = df['Text'].apply(lambda x: preprocess_text(x))"
      ],
      "execution_count": 15,
      "outputs": []
    },
    {
      "cell_type": "code",
      "metadata": {
        "colab": {
          "base_uri": "https://localhost:8080/"
        },
        "id": "Ru6xoGNFvgc4",
        "outputId": "d929241f-8955-488e-c6e4-8922ca60f46b"
      },
      "source": [
        "df['Text'].head()"
      ],
      "execution_count": 16,
      "outputs": [
        {
          "output_type": "execute_result",
          "data": {
            "text/plain": [
              "0    buy large chain pet store read review check ba...\n",
              "1    soup incredibly good honestly look better deal...\n",
              "2    family love tasty healthy sesame honey almonds...\n",
              "3    local auto shop offer free customers try twice...\n",
              "4    bring bottle one carry pocket home fell love v...\n",
              "Name: Text, dtype: object"
            ]
          },
          "metadata": {
            "tags": []
          },
          "execution_count": 16
        }
      ]
    },
    {
      "cell_type": "markdown",
      "metadata": {
        "id": "SAYybuQwa2vE"
      },
      "source": [
        "Let us now print some Text and see if we can get insights from the text."
      ]
    },
    {
      "cell_type": "code",
      "metadata": {
        "colab": {
          "base_uri": "https://localhost:8080/"
        },
        "id": "9g-FSvnZa8-u",
        "outputId": "8a3d09ab-ba7e-40e6-c47e-f28a78653f8e"
      },
      "source": [
        "# printing some reviews to see insights.\n",
        "for Text in df['Text'][:5]:\n",
        "    print(Text+'\\n'+'\\n')"
      ],
      "execution_count": 17,
      "outputs": [
        {
          "output_type": "stream",
          "text": [
            "buy large chain pet store read review check bag make china throw whole bag away wish would read review first \n",
            "\n",
            "\n",
            "soup incredibly good honestly look better deal amazon free ship great buck get cheaper grocery store always wp sales buck anyone know better deal really good taste soup \n",
            "\n",
            "\n",
            "family love tasty healthy sesame honey almonds trader joe get crunchy flavor sesame seed combine subtle sweetness honey almond flavor wow great snack feel good eat favorite trader joe almond snack almonds good handful morning fruit smoothie snack lunch great way get protein healthy fat vitamin e almonds offer good idea measure cup almonds count almonds stay calorie range want keep within nutritionist recommend small amount almonds walnuts day good fat protein \n",
            "\n",
            "\n",
            "local auto shop offer free customers try twice like time perhaps pay might love price would still enjoy flavor \n",
            "\n",
            "\n",
            "bring bottle one carry pocket home fell love vacation belize couple drop trick pack ton flavor hot overpower food \n",
            "\n",
            "\n"
          ],
          "name": "stdout"
        }
      ]
    },
    {
      "cell_type": "code",
      "metadata": {
        "colab": {
          "base_uri": "https://localhost:8080/",
          "height": 204
        },
        "id": "Lcy2G4nFbsWr",
        "outputId": "fcbf12a8-6499-46ec-fb55-f5c28f26e38d"
      },
      "source": [
        "df.head()"
      ],
      "execution_count": 18,
      "outputs": [
        {
          "output_type": "execute_result",
          "data": {
            "text/html": [
              "<div>\n",
              "<style scoped>\n",
              "    .dataframe tbody tr th:only-of-type {\n",
              "        vertical-align: middle;\n",
              "    }\n",
              "\n",
              "    .dataframe tbody tr th {\n",
              "        vertical-align: top;\n",
              "    }\n",
              "\n",
              "    .dataframe thead th {\n",
              "        text-align: right;\n",
              "    }\n",
              "</style>\n",
              "<table border=\"1\" class=\"dataframe\">\n",
              "  <thead>\n",
              "    <tr style=\"text-align: right;\">\n",
              "      <th></th>\n",
              "      <th>Text</th>\n",
              "      <th>Score</th>\n",
              "    </tr>\n",
              "  </thead>\n",
              "  <tbody>\n",
              "    <tr>\n",
              "      <th>0</th>\n",
              "      <td>buy large chain pet store read review check ba...</td>\n",
              "      <td>0</td>\n",
              "    </tr>\n",
              "    <tr>\n",
              "      <th>1</th>\n",
              "      <td>soup incredibly good honestly look better deal...</td>\n",
              "      <td>1</td>\n",
              "    </tr>\n",
              "    <tr>\n",
              "      <th>2</th>\n",
              "      <td>family love tasty healthy sesame honey almonds...</td>\n",
              "      <td>1</td>\n",
              "    </tr>\n",
              "    <tr>\n",
              "      <th>3</th>\n",
              "      <td>local auto shop offer free customers try twice...</td>\n",
              "      <td>1</td>\n",
              "    </tr>\n",
              "    <tr>\n",
              "      <th>4</th>\n",
              "      <td>bring bottle one carry pocket home fell love v...</td>\n",
              "      <td>1</td>\n",
              "    </tr>\n",
              "  </tbody>\n",
              "</table>\n",
              "</div>"
            ],
            "text/plain": [
              "                                                Text  Score\n",
              "0  buy large chain pet store read review check ba...      0\n",
              "1  soup incredibly good honestly look better deal...      1\n",
              "2  family love tasty healthy sesame honey almonds...      1\n",
              "3  local auto shop offer free customers try twice...      1\n",
              "4  bring bottle one carry pocket home fell love v...      1"
            ]
          },
          "metadata": {
            "tags": []
          },
          "execution_count": 18
        }
      ]
    },
    {
      "cell_type": "code",
      "metadata": {
        "colab": {
          "base_uri": "https://localhost:8080/"
        },
        "id": "nYwZLXxgbuCx",
        "outputId": "261aa769-4592-496a-e1d7-42119047b050"
      },
      "source": [
        "df['Score'].value_counts()"
      ],
      "execution_count": 19,
      "outputs": [
        {
          "output_type": "execute_result",
          "data": {
            "text/plain": [
              "1    16223\n",
              "0    16174\n",
              "Name: Score, dtype: int64"
            ]
          },
          "metadata": {
            "tags": []
          },
          "execution_count": 19
        }
      ]
    },
    {
      "cell_type": "code",
      "metadata": {
        "colab": {
          "base_uri": "https://localhost:8080/",
          "height": 466
        },
        "id": "nvBLqYkyb1zt",
        "outputId": "26561a04-4671-407a-f440-a69062432a0c"
      },
      "source": [
        "wc = WordCloud(width = 800, \n",
        "               height = 800, \n",
        "               background_color ='black',  \n",
        "               min_font_size = 10)\n",
        " \n",
        "wc.generate(''.join(df[df[\"Score\"]==0][\"Text\"]))\n",
        " \n",
        "plt.figure(figsize = (8,8)) \n",
        "plt.imshow(wc) \n",
        "plt.axis(\"off\") \n",
        "plt.show()"
      ],
      "execution_count": 20,
      "outputs": [
        {
          "output_type": "display_data",
          "data": {
            "image/png": "[encoded data removed]",
            "text/plain": [
              "<Figure size 576x576 with 1 Axes>"
            ]
          },
          "metadata": {
            "tags": [],
            "needs_background": "light"
          }
        }
      ]
    },
    {
      "cell_type": "code",
      "metadata": {
        "colab": {
          "base_uri": "https://localhost:8080/",
          "height": 466
        },
        "id": "R7OoSVk7b7T7",
        "outputId": "9aab82e0-abe2-4db9-92e6-5c34747b14bd"
      },
      "source": [
        "wc = WordCloud(width = 800, \n",
        "               height = 800, \n",
        "               background_color ='black',  \n",
        "               min_font_size = 10)\n",
        " \n",
        "wc.generate(''.join(df[df[\"Score\"]==1][\"Text\"]))\n",
        " \n",
        "plt.figure(figsize = (8,8)) \n",
        "plt.imshow(wc) \n",
        "plt.axis(\"off\") \n",
        "plt.show()"
      ],
      "execution_count": 21,
      "outputs": [
        {
          "output_type": "display_data",
          "data": {
            "image/png": "[encoded data removed]",
            "text/plain": [
              "<Figure size 576x576 with 1 Axes>"
            ]
          },
          "metadata": {
            "tags": [],
            "needs_background": "light"
          }
        }
      ]
    },
    {
      "cell_type": "code",
      "metadata": {
        "id": "MUfBcDLuc4Zz"
      },
      "source": [
        "X = df['Text']\n",
        "y = df[\"Score\"]"
      ],
      "execution_count": 22,
      "outputs": []
    },
    {
      "cell_type": "code",
      "metadata": {
        "id": "JmqW3WzgdG05"
      },
      "source": [
        "X_train,X_test,y_train,y_test = train_test_split(X,y,test_size=0.2,random_state=1)"
      ],
      "execution_count": 23,
      "outputs": []
    },
    {
      "cell_type": "markdown",
      "metadata": {
        "id": "mRtK_-6HdxGo"
      },
      "source": [
        "## Tokenization"
      ]
    },
    {
      "cell_type": "code",
      "metadata": {
        "id": "oWf8l0mdd1RS"
      },
      "source": [
        "tokenizer = Tokenizer(oov_token=\"<OOV>\")\n",
        "tokenizer.fit_on_texts(X_train)\n",
        "train_sequences = tokenizer.texts_to_sequences(X_train)"
      ],
      "execution_count": 24,
      "outputs": []
    },
    {
      "cell_type": "code",
      "metadata": {
        "id": "kiNqyQwed2fY"
      },
      "source": [
        "doc_length = []\n",
        "for doc in train_sequences:\n",
        "  doc_length.append(len(doc))"
      ],
      "execution_count": 25,
      "outputs": []
    },
    {
      "cell_type": "code",
      "metadata": {
        "colab": {
          "base_uri": "https://localhost:8080/"
        },
        "id": "SfHp0Nczd3vn",
        "outputId": "80716d2f-c40f-4b39-b339-b7a7d7609582"
      },
      "source": [
        "max(doc_length)"
      ],
      "execution_count": 26,
      "outputs": [
        {
          "output_type": "execute_result",
          "data": {
            "text/plain": [
              "925"
            ]
          },
          "metadata": {
            "tags": []
          },
          "execution_count": 26
        }
      ]
    },
    {
      "cell_type": "code",
      "metadata": {
        "colab": {
          "base_uri": "https://localhost:8080/"
        },
        "id": "pYlPdulld5D3",
        "outputId": "b63ef45d-beb5-4e04-9eac-c83d8f8ebedd"
      },
      "source": [
        "np.quantile(doc_length,0.99)"
      ],
      "execution_count": 27,
      "outputs": [
        {
          "output_type": "execute_result",
          "data": {
            "text/plain": [
              "189.0"
            ]
          },
          "metadata": {
            "tags": []
          },
          "execution_count": 27
        }
      ]
    },
    {
      "cell_type": "code",
      "metadata": {
        "colab": {
          "base_uri": "https://localhost:8080/"
        },
        "id": "zeRskg9bd7PH",
        "outputId": "fd0e253b-cb4f-4191-ec3d-b234affad5e8"
      },
      "source": [
        "max_len = 112\n",
        "train_padded = pad_sequences(train_sequences, maxlen=max_len)\n",
        "print(train_padded)"
      ],
      "execution_count": 28,
      "outputs": [
        {
          "output_type": "stream",
          "text": [
            "[[  0   0   0 ...  88 979  74]\n",
            " [  0   0   0 ... 203  33   8]\n",
            " [  0   0   0 ... 354  32   3]\n",
            " ...\n",
            " [  0   0   0 ...  61 288  62]\n",
            " [  0   0   0 ... 206 175  60]\n",
            " [  0   0   0 ... 288  62  12]]\n"
          ],
          "name": "stdout"
        }
      ]
    },
    {
      "cell_type": "code",
      "metadata": {
        "id": "b8WJN-2leBoo"
      },
      "source": [
        "vocab_len = len(tokenizer.index_word)+1"
      ],
      "execution_count": 29,
      "outputs": []
    },
    {
      "cell_type": "code",
      "metadata": {
        "id": "0v2WNKU3eDON"
      },
      "source": [
        "# NN\n",
        "model = Sequential()\n",
        "model.add(Embedding(vocab_len, 10, input_length=max_len, mask_zero=True))\n",
        "model.add(Flatten())\n",
        "model.add(Dense(8, activation=\"tanh\"))\n",
        "model.add(Dense(1,activation=\"sigmoid\"))"
      ],
      "execution_count": 30,
      "outputs": []
    },
    {
      "cell_type": "code",
      "metadata": {
        "id": "J9cpFXvmeEaU"
      },
      "source": [
        "model.compile(loss=\"binary_crossentropy\", optimizer=\"adam\")"
      ],
      "execution_count": 31,
      "outputs": []
    },
    {
      "cell_type": "code",
      "metadata": {
        "colab": {
          "base_uri": "https://localhost:8080/"
        },
        "id": "NvgrFny0eFc0",
        "outputId": "4bc3a46f-746d-45b2-c5b8-8c01f7e92484"
      },
      "source": [
        "model.fit(train_padded,y_train,epochs=50,batch_size=100)"
      ],
      "execution_count": 32,
      "outputs": [
        {
          "output_type": "stream",
          "text": [
            "Epoch 1/50\n",
            "260/260 [==============================] - 2s 5ms/step - loss: 0.5431\n",
            "Epoch 2/50\n",
            "260/260 [==============================] - 1s 5ms/step - loss: 0.2978\n",
            "Epoch 3/50\n",
            "260/260 [==============================] - 1s 5ms/step - loss: 0.2076\n",
            "Epoch 4/50\n",
            "260/260 [==============================] - 1s 5ms/step - loss: 0.1391\n",
            "Epoch 5/50\n",
            "260/260 [==============================] - 1s 5ms/step - loss: 0.0863\n",
            "Epoch 6/50\n",
            "260/260 [==============================] - 1s 5ms/step - loss: 0.0524\n",
            "Epoch 7/50\n",
            "260/260 [==============================] - 1s 5ms/step - loss: 0.0315\n",
            "Epoch 8/50\n",
            "260/260 [==============================] - 1s 5ms/step - loss: 0.0194\n",
            "Epoch 9/50\n",
            "260/260 [==============================] - 1s 5ms/step - loss: 0.0127\n",
            "Epoch 10/50\n",
            "260/260 [==============================] - 1s 5ms/step - loss: 0.0090\n",
            "Epoch 11/50\n",
            "260/260 [==============================] - 1s 5ms/step - loss: 0.0066\n",
            "Epoch 12/50\n",
            "260/260 [==============================] - 1s 5ms/step - loss: 0.0052\n",
            "Epoch 13/50\n",
            "260/260 [==============================] - 1s 5ms/step - loss: 0.0040\n",
            "Epoch 14/50\n",
            "260/260 [==============================] - 1s 5ms/step - loss: 0.0036\n",
            "Epoch 15/50\n",
            "260/260 [==============================] - 1s 5ms/step - loss: 0.0036\n",
            "Epoch 16/50\n",
            "260/260 [==============================] - 1s 5ms/step - loss: 0.0030\n",
            "Epoch 17/50\n",
            "260/260 [==============================] - 1s 5ms/step - loss: 0.0031\n",
            "Epoch 18/50\n",
            "260/260 [==============================] - 1s 5ms/step - loss: 0.0029\n",
            "Epoch 19/50\n",
            "260/260 [==============================] - 1s 5ms/step - loss: 0.0025\n",
            "Epoch 20/50\n",
            "260/260 [==============================] - 1s 5ms/step - loss: 0.0026\n",
            "Epoch 21/50\n",
            "260/260 [==============================] - 1s 5ms/step - loss: 0.0024\n",
            "Epoch 22/50\n",
            "260/260 [==============================] - 1s 5ms/step - loss: 0.0032\n",
            "Epoch 23/50\n",
            "260/260 [==============================] - 1s 5ms/step - loss: 0.0033\n",
            "Epoch 24/50\n",
            "260/260 [==============================] - 1s 5ms/step - loss: 0.0029\n",
            "Epoch 25/50\n",
            "260/260 [==============================] - 1s 5ms/step - loss: 0.0027\n",
            "Epoch 26/50\n",
            "260/260 [==============================] - 1s 5ms/step - loss: 0.0024\n",
            "Epoch 27/50\n",
            "260/260 [==============================] - 1s 5ms/step - loss: 0.0022\n",
            "Epoch 28/50\n",
            "260/260 [==============================] - 1s 5ms/step - loss: 0.0023\n",
            "Epoch 29/50\n",
            "260/260 [==============================] - 1s 5ms/step - loss: 0.0017\n",
            "Epoch 30/50\n",
            "260/260 [==============================] - 1s 5ms/step - loss: 0.0017\n",
            "Epoch 31/50\n",
            "260/260 [==============================] - 1s 5ms/step - loss: 0.0017\n",
            "Epoch 32/50\n",
            "260/260 [==============================] - 1s 5ms/step - loss: 0.0018\n",
            "Epoch 33/50\n",
            "260/260 [==============================] - 1s 5ms/step - loss: 0.0017\n",
            "Epoch 34/50\n",
            "260/260 [==============================] - 1s 5ms/step - loss: 0.0017\n",
            "Epoch 35/50\n",
            "260/260 [==============================] - 1s 5ms/step - loss: 0.0018\n",
            "Epoch 36/50\n",
            "260/260 [==============================] - 1s 5ms/step - loss: 0.0016\n",
            "Epoch 37/50\n",
            "260/260 [==============================] - 1s 5ms/step - loss: 0.0016\n",
            "Epoch 38/50\n",
            "260/260 [==============================] - 1s 5ms/step - loss: 0.0016\n",
            "Epoch 39/50\n",
            "260/260 [==============================] - 1s 5ms/step - loss: 0.0016\n",
            "Epoch 40/50\n",
            "260/260 [==============================] - 1s 5ms/step - loss: 0.0016\n",
            "Epoch 41/50\n",
            "260/260 [==============================] - 1s 5ms/step - loss: 0.0016\n",
            "Epoch 42/50\n",
            "260/260 [==============================] - 1s 5ms/step - loss: 0.0016\n",
            "Epoch 43/50\n",
            "260/260 [==============================] - 1s 5ms/step - loss: 0.0016\n",
            "Epoch 44/50\n",
            "260/260 [==============================] - 1s 5ms/step - loss: 0.0016\n",
            "Epoch 45/50\n",
            "260/260 [==============================] - 1s 5ms/step - loss: 0.0016\n",
            "Epoch 46/50\n",
            "260/260 [==============================] - 1s 5ms/step - loss: 0.0016\n",
            "Epoch 47/50\n",
            "260/260 [==============================] - 1s 5ms/step - loss: 0.0015\n",
            "Epoch 48/50\n",
            "260/260 [==============================] - 1s 5ms/step - loss: 0.0016\n",
            "Epoch 49/50\n",
            "260/260 [==============================] - 1s 5ms/step - loss: 0.0017\n",
            "Epoch 50/50\n",
            "260/260 [==============================] - 1s 5ms/step - loss: 0.0016\n"
          ],
          "name": "stdout"
        },
        {
          "output_type": "execute_result",
          "data": {
            "text/plain": [
              "<tensorflow.python.keras.callbacks.History at 0x7f5abdc8c490>"
            ]
          },
          "metadata": {
            "tags": []
          },
          "execution_count": 32
        }
      ]
    },
    {
      "cell_type": "code",
      "metadata": {
        "id": "NNTWu2kfeG2k"
      },
      "source": [
        "test_sequences = tokenizer.texts_to_sequences(X_test)\n",
        "test_padded = pad_sequences(test_sequences, maxlen=max_len)"
      ],
      "execution_count": 33,
      "outputs": []
    },
    {
      "cell_type": "code",
      "metadata": {
        "id": "RLXEExTDeILz"
      },
      "source": [
        "y_pred = model.predict(test_padded)\n",
        "y_pred = np.where(y_pred >= 0.5,1,0)"
      ],
      "execution_count": 36,
      "outputs": []
    },
    {
      "cell_type": "code",
      "metadata": {
        "colab": {
          "base_uri": "https://localhost:8080/"
        },
        "id": "RIGlMO-meKw2",
        "outputId": "ea26ba90-e616-4c1d-8c9f-f0fab8527c39"
      },
      "source": [
        "from sklearn.metrics import classification_report\n",
        "print(classification_report(y_test,y_pred))"
      ],
      "execution_count": 37,
      "outputs": [
        {
          "output_type": "stream",
          "text": [
            "              precision    recall  f1-score   support\n",
            "\n",
            "           0       0.81      0.80      0.80      3306\n",
            "           1       0.79      0.80      0.80      3174\n",
            "\n",
            "    accuracy                           0.80      6480\n",
            "   macro avg       0.80      0.80      0.80      6480\n",
            "weighted avg       0.80      0.80      0.80      6480\n",
            "\n"
          ],
          "name": "stdout"
        }
      ]
    },
    {
      "cell_type": "markdown",
      "metadata": {
        "id": "Zpz_5A2HeO-z"
      },
      "source": [
        "## RNN."
      ]
    },
    {
      "cell_type": "code",
      "metadata": {
        "id": "AkhrFXtWeaNF"
      },
      "source": [
        "# RNN with single layer\n",
        "\n",
        "model2 = Sequential()\n",
        "model2.add(Embedding(vocab_len, 10, input_length=max_len, mask_zero=True))\n",
        "model2.add(SimpleRNN(32, activation=\"tanh\"))\n",
        "model2.add(Dense(16, activation=\"tanh\"))\n",
        "model2.add(Dense(1,activation=\"sigmoid\"))"
      ],
      "execution_count": null,
      "outputs": []
    },
    {
      "cell_type": "code",
      "metadata": {
        "colab": {
          "base_uri": "https://localhost:8080/"
        },
        "id": "PyUVRszFehUQ",
        "outputId": "e8b3f58a-26e9-4ad0-af9d-e772a175421b"
      },
      "source": [
        "model2.compile(loss=\"binary_crossentropy\", optimizer=\"adam\")\n",
        "model2.fit(train_padded,y_train,epochs=50,batch_size=100)"
      ],
      "execution_count": null,
      "outputs": [
        {
          "output_type": "stream",
          "text": [
            "Epoch 1/50\n",
            "260/260 [==============================] - 16s 55ms/step - loss: 0.4514\n",
            "Epoch 2/50\n",
            "260/260 [==============================] - 14s 54ms/step - loss: 0.2708\n",
            "Epoch 3/50\n",
            "260/260 [==============================] - 14s 55ms/step - loss: 0.1915\n",
            "Epoch 4/50\n",
            "260/260 [==============================] - 14s 53ms/step - loss: 0.1353\n",
            "Epoch 5/50\n",
            "260/260 [==============================] - 14s 55ms/step - loss: 0.0878\n",
            "Epoch 6/50\n",
            "260/260 [==============================] - 14s 54ms/step - loss: 0.0523\n",
            "Epoch 7/50\n",
            "260/260 [==============================] - 14s 53ms/step - loss: 0.0372\n",
            "Epoch 8/50\n",
            "260/260 [==============================] - 14s 53ms/step - loss: 0.0193\n",
            "Epoch 9/50\n",
            "260/260 [==============================] - 14s 54ms/step - loss: 0.0221\n",
            "Epoch 10/50\n",
            "260/260 [==============================] - 14s 55ms/step - loss: 0.0205\n",
            "Epoch 11/50\n",
            "260/260 [==============================] - 14s 55ms/step - loss: 0.0261\n",
            "Epoch 12/50\n",
            "260/260 [==============================] - 14s 54ms/step - loss: 0.0128\n",
            "Epoch 13/50\n",
            "260/260 [==============================] - 14s 54ms/step - loss: 0.0108\n",
            "Epoch 14/50\n",
            "260/260 [==============================] - 14s 55ms/step - loss: 0.0072\n",
            "Epoch 15/50\n",
            "260/260 [==============================] - 14s 54ms/step - loss: 0.0048\n",
            "Epoch 16/50\n",
            "260/260 [==============================] - 14s 54ms/step - loss: 0.0107\n",
            "Epoch 17/50\n",
            "260/260 [==============================] - 14s 54ms/step - loss: 0.0224\n",
            "Epoch 18/50\n",
            "260/260 [==============================] - 14s 55ms/step - loss: 0.0163\n",
            "Epoch 19/50\n",
            "260/260 [==============================] - 14s 54ms/step - loss: 0.0084\n",
            "Epoch 20/50\n",
            "260/260 [==============================] - 14s 53ms/step - loss: 0.0038\n",
            "Epoch 21/50\n",
            "260/260 [==============================] - 14s 53ms/step - loss: 0.0027\n",
            "Epoch 22/50\n",
            "260/260 [==============================] - 14s 54ms/step - loss: 0.0022\n",
            "Epoch 23/50\n",
            "260/260 [==============================] - 14s 54ms/step - loss: 0.0022\n",
            "Epoch 24/50\n",
            "260/260 [==============================] - 14s 55ms/step - loss: 0.0089\n",
            "Epoch 25/50\n",
            "260/260 [==============================] - 14s 54ms/step - loss: 0.0255\n",
            "Epoch 26/50\n",
            "260/260 [==============================] - 14s 54ms/step - loss: 0.0135\n",
            "Epoch 27/50\n",
            "260/260 [==============================] - 14s 54ms/step - loss: 0.0089\n",
            "Epoch 28/50\n",
            "260/260 [==============================] - 14s 54ms/step - loss: 0.0050\n",
            "Epoch 29/50\n",
            "260/260 [==============================] - 14s 55ms/step - loss: 0.0027\n",
            "Epoch 30/50\n",
            "260/260 [==============================] - 14s 55ms/step - loss: 0.0022\n",
            "Epoch 31/50\n",
            "260/260 [==============================] - 14s 55ms/step - loss: 0.0020\n",
            "Epoch 32/50\n",
            "260/260 [==============================] - 14s 54ms/step - loss: 0.0022\n",
            "Epoch 33/50\n",
            "260/260 [==============================] - 14s 53ms/step - loss: 0.0019\n",
            "Epoch 34/50\n",
            "260/260 [==============================] - 14s 55ms/step - loss: 0.0301\n",
            "Epoch 35/50\n",
            "260/260 [==============================] - 14s 56ms/step - loss: 0.0105\n",
            "Epoch 36/50\n",
            "260/260 [==============================] - 14s 54ms/step - loss: 0.0042\n",
            "Epoch 37/50\n",
            "260/260 [==============================] - 14s 54ms/step - loss: 0.0022\n",
            "Epoch 38/50\n",
            "260/260 [==============================] - 14s 55ms/step - loss: 0.0021\n",
            "Epoch 39/50\n",
            "260/260 [==============================] - 14s 55ms/step - loss: 0.0021\n",
            "Epoch 40/50\n",
            "260/260 [==============================] - 14s 55ms/step - loss: 0.0017\n",
            "Epoch 41/50\n",
            "260/260 [==============================] - 14s 54ms/step - loss: 0.0016\n",
            "Epoch 42/50\n",
            "260/260 [==============================] - 14s 55ms/step - loss: 0.0016\n",
            "Epoch 43/50\n",
            "260/260 [==============================] - 14s 55ms/step - loss: 0.0016\n",
            "Epoch 44/50\n",
            "260/260 [==============================] - 14s 55ms/step - loss: 0.0016\n",
            "Epoch 45/50\n",
            "260/260 [==============================] - 14s 55ms/step - loss: 0.0016\n",
            "Epoch 46/50\n",
            "260/260 [==============================] - 14s 55ms/step - loss: 0.0016\n",
            "Epoch 47/50\n",
            "260/260 [==============================] - 14s 55ms/step - loss: 0.0016\n",
            "Epoch 48/50\n",
            "260/260 [==============================] - 14s 55ms/step - loss: 0.0016\n",
            "Epoch 49/50\n",
            "260/260 [==============================] - 14s 56ms/step - loss: 0.0016\n",
            "Epoch 50/50\n",
            "260/260 [==============================] - 14s 56ms/step - loss: 0.0016\n"
          ],
          "name": "stdout"
        },
        {
          "output_type": "execute_result",
          "data": {
            "text/plain": [
              "<tensorflow.python.keras.callbacks.History at 0x7f3355877210>"
            ]
          },
          "metadata": {
            "tags": []
          },
          "execution_count": 41
        }
      ]
    },
    {
      "cell_type": "code",
      "metadata": {
        "colab": {
          "base_uri": "https://localhost:8080/"
        },
        "id": "CcoN_JXFehai",
        "outputId": "327baede-1969-46e6-8649-b712815b801e"
      },
      "source": [
        "y_pred = model2.predict(test_padded)\n",
        "y_pred = np.where(y_pred >= 0.5, 1, 0)\n",
        "print(classification_report(y_test,y_pred))"
      ],
      "execution_count": null,
      "outputs": [
        {
          "output_type": "stream",
          "text": [
            "              precision    recall  f1-score   support\n",
            "\n",
            "           0       0.84      0.83      0.83      3306\n",
            "           1       0.82      0.83      0.83      3174\n",
            "\n",
            "    accuracy                           0.83      6480\n",
            "   macro avg       0.83      0.83      0.83      6480\n",
            "weighted avg       0.83      0.83      0.83      6480\n",
            "\n"
          ],
          "name": "stdout"
        }
      ]
    },
    {
      "cell_type": "code",
      "metadata": {
        "id": "SepIKQRreff-"
      },
      "source": [
        "# RNN with Multiple layer\n",
        "\n",
        "model3 = Sequential()\n",
        "model3.add(Embedding(vocab_len, 10, input_length=max_len, mask_zero=True))\n",
        "model3.add(SimpleRNN(32, activation=\"tanh\", return_sequences=True))\n",
        "model3.add(SimpleRNN(32, activation=\"tanh\"))\n",
        "model3.add(Dense(16, activation=\"tanh\"))\n",
        "model3.add(Dense(1,activation=\"sigmoid\"))"
      ],
      "execution_count": null,
      "outputs": []
    },
    {
      "cell_type": "code",
      "metadata": {
        "colab": {
          "base_uri": "https://localhost:8080/"
        },
        "id": "b3RUxHE5ep_R",
        "outputId": "74df53a1-811d-42fa-8972-5ea7cdd0a048"
      },
      "source": [
        "model3.compile(loss=\"binary_crossentropy\", optimizer=\"adam\")\n",
        "model3.fit(train_padded,y_train,epochs=50,batch_size=100)"
      ],
      "execution_count": null,
      "outputs": [
        {
          "output_type": "stream",
          "text": [
            "Epoch 1/50\n",
            "260/260 [==============================] - 29s 102ms/step - loss: 0.4982\n",
            "Epoch 2/50\n",
            "260/260 [==============================] - 27s 103ms/step - loss: 0.2777\n",
            "Epoch 3/50\n",
            "260/260 [==============================] - 26s 101ms/step - loss: 0.1966\n",
            "Epoch 4/50\n",
            "260/260 [==============================] - 26s 99ms/step - loss: 0.1246\n",
            "Epoch 5/50\n",
            "260/260 [==============================] - 26s 100ms/step - loss: 0.0758\n",
            "Epoch 6/50\n",
            "260/260 [==============================] - 26s 99ms/step - loss: 0.0462\n",
            "Epoch 7/50\n",
            "260/260 [==============================] - 26s 100ms/step - loss: 0.0341\n",
            "Epoch 8/50\n",
            "260/260 [==============================] - 25s 98ms/step - loss: 0.0249\n",
            "Epoch 9/50\n",
            "260/260 [==============================] - 26s 99ms/step - loss: 0.0252\n",
            "Epoch 10/50\n",
            "260/260 [==============================] - 26s 99ms/step - loss: 0.0168\n",
            "Epoch 11/50\n",
            "260/260 [==============================] - 26s 100ms/step - loss: 0.0216\n",
            "Epoch 12/50\n",
            "260/260 [==============================] - 26s 102ms/step - loss: 0.0153\n",
            "Epoch 13/50\n",
            "260/260 [==============================] - 26s 100ms/step - loss: 0.0108\n",
            "Epoch 14/50\n",
            "260/260 [==============================] - 26s 100ms/step - loss: 0.0187\n",
            "Epoch 15/50\n",
            "260/260 [==============================] - 26s 99ms/step - loss: 0.0175\n",
            "Epoch 16/50\n",
            "260/260 [==============================] - 26s 99ms/step - loss: 0.0146\n",
            "Epoch 17/50\n",
            "260/260 [==============================] - 26s 101ms/step - loss: 0.0115\n",
            "Epoch 18/50\n",
            "260/260 [==============================] - 26s 98ms/step - loss: 0.0066\n",
            "Epoch 19/50\n",
            "260/260 [==============================] - 26s 98ms/step - loss: 0.0035\n",
            "Epoch 20/50\n",
            "260/260 [==============================] - 26s 100ms/step - loss: 0.0126\n",
            "Epoch 21/50\n",
            "260/260 [==============================] - 26s 100ms/step - loss: 0.0121\n",
            "Epoch 22/50\n",
            "260/260 [==============================] - 26s 99ms/step - loss: 0.0152\n",
            "Epoch 23/50\n",
            "260/260 [==============================] - 26s 100ms/step - loss: 0.0101\n",
            "Epoch 24/50\n",
            "260/260 [==============================] - 26s 100ms/step - loss: 0.0065\n",
            "Epoch 25/50\n",
            "260/260 [==============================] - 26s 100ms/step - loss: 0.0083\n",
            "Epoch 26/50\n",
            "260/260 [==============================] - 26s 100ms/step - loss: 0.0109\n",
            "Epoch 27/50\n",
            "260/260 [==============================] - 26s 102ms/step - loss: 0.0071\n",
            "Epoch 28/50\n",
            "260/260 [==============================] - 26s 99ms/step - loss: 0.0094\n",
            "Epoch 29/50\n",
            "260/260 [==============================] - 26s 101ms/step - loss: 0.0071\n",
            "Epoch 30/50\n",
            "260/260 [==============================] - 26s 100ms/step - loss: 0.0064\n",
            "Epoch 31/50\n",
            "260/260 [==============================] - 26s 101ms/step - loss: 0.0095\n",
            "Epoch 32/50\n",
            "260/260 [==============================] - 26s 99ms/step - loss: 0.0074\n",
            "Epoch 33/50\n",
            "260/260 [==============================] - 26s 102ms/step - loss: 0.0081\n",
            "Epoch 34/50\n",
            "260/260 [==============================] - 27s 103ms/step - loss: 0.0066\n",
            "Epoch 35/50\n",
            "260/260 [==============================] - 27s 104ms/step - loss: 0.0046\n",
            "Epoch 36/50\n",
            "260/260 [==============================] - 27s 103ms/step - loss: 0.0136\n",
            "Epoch 37/50\n",
            "260/260 [==============================] - 26s 102ms/step - loss: 0.0062\n",
            "Epoch 38/50\n",
            "260/260 [==============================] - 27s 104ms/step - loss: 0.0068\n",
            "Epoch 39/50\n",
            "260/260 [==============================] - 26s 101ms/step - loss: 0.0056\n",
            "Epoch 40/50\n",
            "260/260 [==============================] - 26s 99ms/step - loss: 0.0050\n",
            "Epoch 41/50\n",
            "260/260 [==============================] - 26s 98ms/step - loss: 0.0041\n",
            "Epoch 42/50\n",
            "260/260 [==============================] - 26s 99ms/step - loss: 0.0107\n",
            "Epoch 43/50\n",
            "260/260 [==============================] - 26s 99ms/step - loss: 0.0058\n",
            "Epoch 44/50\n",
            "260/260 [==============================] - 26s 99ms/step - loss: 0.0054\n",
            "Epoch 45/50\n",
            "260/260 [==============================] - 26s 99ms/step - loss: 0.0071\n",
            "Epoch 46/50\n",
            "260/260 [==============================] - 26s 99ms/step - loss: 0.0033\n",
            "Epoch 47/50\n",
            "260/260 [==============================] - 26s 99ms/step - loss: 0.0020\n",
            "Epoch 48/50\n",
            "260/260 [==============================] - 26s 98ms/step - loss: 0.0018\n",
            "Epoch 49/50\n",
            "260/260 [==============================] - 26s 99ms/step - loss: 0.0017\n",
            "Epoch 50/50\n",
            "260/260 [==============================] - 26s 99ms/step - loss: 0.0018\n"
          ],
          "name": "stdout"
        },
        {
          "output_type": "execute_result",
          "data": {
            "text/plain": [
              "<tensorflow.python.keras.callbacks.History at 0x7f335e137450>"
            ]
          },
          "metadata": {
            "tags": []
          },
          "execution_count": 44
        }
      ]
    },
    {
      "cell_type": "code",
      "metadata": {
        "colab": {
          "base_uri": "https://localhost:8080/"
        },
        "id": "sbCYcL3KeuCH",
        "outputId": "d62a7bac-5250-479a-d462-87abe3b593f0"
      },
      "source": [
        "y_pred = model3.predict(test_padded)\n",
        "y_pred = np.where(y_pred >= 0.5, 1, 0)\n",
        "print(classification_report(y_test,y_pred))"
      ],
      "execution_count": null,
      "outputs": [
        {
          "output_type": "stream",
          "text": [
            "              precision    recall  f1-score   support\n",
            "\n",
            "           0       0.83      0.82      0.83      3306\n",
            "           1       0.82      0.83      0.82      3174\n",
            "\n",
            "    accuracy                           0.82      6480\n",
            "   macro avg       0.82      0.83      0.82      6480\n",
            "weighted avg       0.83      0.82      0.83      6480\n",
            "\n"
          ],
          "name": "stdout"
        }
      ]
    },
    {
      "cell_type": "code",
      "metadata": {
        "id": "TLXWmM1WeqEm"
      },
      "source": [
        "# Bidirectional RNN with single layer\n",
        "\n",
        "model4 = Sequential()\n",
        "model4.add(Embedding(vocab_len, 10, input_length=max_len, mask_zero=True))\n",
        "model4.add(Bidirectional(SimpleRNN(32, activation=\"tanh\")))\n",
        "model4.add(Dense(16, activation=\"tanh\"))\n",
        "model4.add(Dense(1,activation=\"sigmoid\"))"
      ],
      "execution_count": null,
      "outputs": []
    },
    {
      "cell_type": "code",
      "metadata": {
        "colab": {
          "background_save": true,
          "base_uri": "https://localhost:8080/"
        },
        "id": "H1g81_6cfEBp",
        "outputId": "2dd913f9-fd0e-4a0b-88d7-bf72f4186dfc"
      },
      "source": [
        "model4.compile(loss=\"binary_crossentropy\", optimizer=\"adam\")\n",
        "model4.fit(train_padded,y_train,epochs=50,batch_size=100)"
      ],
      "execution_count": null,
      "outputs": [
        {
          "output_type": "stream",
          "text": [
            "Epoch 1/50\n",
            "260/260 [==============================] - 26s 90ms/step - loss: 0.4735\n",
            "Epoch 2/50\n",
            "260/260 [==============================] - 24s 91ms/step - loss: 0.2760\n",
            "Epoch 3/50\n",
            "260/260 [==============================] - 23s 90ms/step - loss: 0.1971\n",
            "Epoch 4/50\n",
            "260/260 [==============================] - 23s 90ms/step - loss: 0.1428\n",
            "Epoch 5/50\n",
            "260/260 [==============================] - 24s 91ms/step - loss: 0.0940\n",
            "Epoch 6/50\n",
            "260/260 [==============================] - 23s 89ms/step - loss: 0.0668\n",
            "Epoch 7/50\n",
            "260/260 [==============================] - 23s 89ms/step - loss: 0.0431\n",
            "Epoch 8/50\n",
            "260/260 [==============================] - 24s 91ms/step - loss: 0.0351\n",
            "Epoch 9/50\n",
            "260/260 [==============================] - 23s 90ms/step - loss: 0.0243\n",
            "Epoch 10/50\n",
            "260/260 [==============================] - 24s 91ms/step - loss: 0.0180\n",
            "Epoch 11/50\n",
            "260/260 [==============================] - 24s 91ms/step - loss: 0.0180\n",
            "Epoch 12/50\n",
            "260/260 [==============================] - 23s 90ms/step - loss: 0.0293\n",
            "Epoch 13/50\n",
            "260/260 [==============================] - 24s 91ms/step - loss: 0.0122\n",
            "Epoch 14/50\n",
            "260/260 [==============================] - 23s 90ms/step - loss: 0.0083\n",
            "Epoch 15/50\n",
            "260/260 [==============================] - 23s 90ms/step - loss: 0.0061\n",
            "Epoch 16/50\n",
            "260/260 [==============================] - 23s 90ms/step - loss: 0.0044\n",
            "Epoch 17/50\n",
            "260/260 [==============================] - 23s 90ms/step - loss: 0.0044\n",
            "Epoch 18/50\n",
            "260/260 [==============================] - 23s 90ms/step - loss: 0.0410\n",
            "Epoch 19/50\n",
            "260/260 [==============================] - 23s 90ms/step - loss: 0.0151\n",
            "Epoch 20/50\n",
            "260/260 [==============================] - 24s 90ms/step - loss: 0.0060\n",
            "Epoch 21/50\n",
            "260/260 [==============================] - 24s 92ms/step - loss: 0.0032\n",
            "Epoch 22/50\n",
            "260/260 [==============================] - 24s 92ms/step - loss: 0.0031\n",
            "Epoch 23/50\n",
            "260/260 [==============================] - 24s 91ms/step - loss: 0.0020\n",
            "Epoch 24/50\n",
            "260/260 [==============================] - 24s 91ms/step - loss: 0.0018\n",
            "Epoch 25/50\n",
            "260/260 [==============================] - 23s 90ms/step - loss: 0.0018\n",
            "Epoch 26/50\n",
            "260/260 [==============================] - 23s 90ms/step - loss: 0.0017\n",
            "Epoch 27/50\n",
            "260/260 [==============================] - 24s 91ms/step - loss: 0.0017\n",
            "Epoch 28/50\n",
            "260/260 [==============================] - 24s 91ms/step - loss: 0.0016\n",
            "Epoch 29/50\n",
            "260/260 [==============================] - 24s 93ms/step - loss: 0.0016\n",
            "Epoch 30/50\n",
            "260/260 [==============================] - 24s 92ms/step - loss: 0.0016\n",
            "Epoch 31/50\n",
            "260/260 [==============================] - 24s 93ms/step - loss: 0.0016\n",
            "Epoch 32/50\n",
            "260/260 [==============================] - 25s 94ms/step - loss: 0.0016\n",
            "Epoch 33/50\n",
            "260/260 [==============================] - 24s 92ms/step - loss: 0.0016\n",
            "Epoch 34/50\n",
            "260/260 [==============================] - 24s 92ms/step - loss: 0.0016\n",
            "Epoch 35/50\n",
            "260/260 [==============================] - 24s 94ms/step - loss: 0.0016\n",
            "Epoch 36/50\n",
            "260/260 [==============================] - 24s 93ms/step - loss: 0.0016\n",
            "Epoch 37/50\n",
            "260/260 [==============================] - 24s 91ms/step - loss: 0.0016\n",
            "Epoch 38/50\n",
            "260/260 [==============================] - 24s 92ms/step - loss: 0.0015\n",
            "Epoch 39/50\n",
            "260/260 [==============================] - 24s 92ms/step - loss: 0.0016\n",
            "Epoch 40/50\n",
            "260/260 [==============================] - 24s 91ms/step - loss: 0.0015\n",
            "Epoch 41/50\n",
            "260/260 [==============================] - 24s 92ms/step - loss: 0.0015\n",
            "Epoch 42/50\n",
            "260/260 [==============================] - 24s 92ms/step - loss: 0.0015\n",
            "Epoch 43/50\n",
            "260/260 [==============================] - 24s 91ms/step - loss: 0.0015\n",
            "Epoch 44/50\n",
            "260/260 [==============================] - 24s 92ms/step - loss: 0.0015\n",
            "Epoch 45/50\n",
            "260/260 [==============================] - 24s 92ms/step - loss: 0.0015\n",
            "Epoch 46/50\n",
            "260/260 [==============================] - 24s 91ms/step - loss: 0.0015\n",
            "Epoch 47/50\n",
            "260/260 [==============================] - 24s 92ms/step - loss: 0.0015\n",
            "Epoch 48/50\n",
            "260/260 [==============================] - 24s 92ms/step - loss: 0.0015\n",
            "Epoch 49/50\n",
            "260/260 [==============================] - 24s 91ms/step - loss: 0.0015\n",
            "Epoch 50/50\n",
            "260/260 [==============================] - 24s 91ms/step - loss: 0.0015\n"
          ],
          "name": "stdout"
        },
        {
          "output_type": "execute_result",
          "data": {
            "text/plain": [
              "<tensorflow.python.keras.callbacks.History at 0x7f335de45810>"
            ]
          },
          "metadata": {
            "tags": []
          },
          "execution_count": 0
        }
      ]
    },
    {
      "cell_type": "code",
      "metadata": {
        "colab": {
          "background_save": true
        },
        "id": "3vixjp2BfGxD",
        "outputId": "845bae2a-d831-40fd-f28c-2eed89035ad0"
      },
      "source": [
        "y_pred = model4.predict(test_padded)\n",
        "y_pred = np.where(y_pred >= 0.5, 1, 0)\n",
        "print(classification_report(y_test,y_pred))"
      ],
      "execution_count": null,
      "outputs": [
        {
          "output_type": "stream",
          "text": [
            "              precision    recall  f1-score   support\n",
            "\n",
            "           0       0.86      0.83      0.84      3306\n",
            "           1       0.83      0.85      0.84      3174\n",
            "\n",
            "    accuracy                           0.84      6480\n",
            "   macro avg       0.84      0.84      0.84      6480\n",
            "weighted avg       0.84      0.84      0.84      6480\n",
            "\n"
          ],
          "name": "stdout"
        }
      ]
    },
    {
      "cell_type": "code",
      "metadata": {
        "colab": {
          "background_save": true
        },
        "id": "TNI-M74qfJId"
      },
      "source": [
        "# Bidirectional RNN with Multiple layer\n",
        "\n",
        "model5 = Sequential()\n",
        "model5.add(Embedding(vocab_len, 10, input_length=max_len, mask_zero=True))\n",
        "model5.add(Bidirectional(SimpleRNN(32, activation=\"tanh\", return_sequences=True)))\n",
        "model5.add(Bidirectional(SimpleRNN(32, activation=\"tanh\")))\n",
        "model5.add(Dense(16, activation=\"tanh\"))\n",
        "model5.add(Dense(1,activation=\"sigmoid\"))"
      ],
      "execution_count": null,
      "outputs": []
    },
    {
      "cell_type": "code",
      "metadata": {
        "colab": {
          "background_save": true,
          "base_uri": "https://localhost:8080/"
        },
        "id": "-8KGZUqZfN22",
        "outputId": "162780ef-cbb1-4d4b-ed25-5bd554eb727a"
      },
      "source": [
        "model5.compile(loss=\"binary_crossentropy\", optimizer=\"adam\")\n",
        "model5.fit(train_padded,y_train,epochs=50,batch_size=100)"
      ],
      "execution_count": null,
      "outputs": [
        {
          "output_type": "stream",
          "text": [
            "Epoch 1/50\n",
            "260/260 [==============================] - 52s 185ms/step - loss: 0.5040\n",
            "Epoch 2/50\n",
            "260/260 [==============================] - 48s 183ms/step - loss: 0.2653\n",
            "Epoch 3/50\n",
            "260/260 [==============================] - 48s 185ms/step - loss: 0.1626\n",
            "Epoch 4/50\n",
            "260/260 [==============================] - 48s 185ms/step - loss: 0.0930\n",
            "Epoch 5/50\n",
            "260/260 [==============================] - 49s 188ms/step - loss: 0.0594\n",
            "Epoch 6/50\n",
            "260/260 [==============================] - 48s 186ms/step - loss: 0.0466\n",
            "Epoch 7/50\n",
            "260/260 [==============================] - 48s 186ms/step - loss: 0.0339\n",
            "Epoch 8/50\n",
            "260/260 [==============================] - 48s 184ms/step - loss: 0.0263\n",
            "Epoch 9/50\n",
            "260/260 [==============================] - 48s 186ms/step - loss: 0.0187\n",
            "Epoch 10/50\n",
            "260/260 [==============================] - 48s 184ms/step - loss: 0.0159\n",
            "Epoch 11/50\n",
            "260/260 [==============================] - 48s 186ms/step - loss: 0.0221\n",
            "Epoch 12/50\n",
            "260/260 [==============================] - 48s 186ms/step - loss: 0.0195\n",
            "Epoch 13/50\n",
            "260/260 [==============================] - 48s 186ms/step - loss: 0.0133\n",
            "Epoch 14/50\n",
            "260/260 [==============================] - 49s 188ms/step - loss: 0.0188\n",
            "Epoch 15/50\n",
            "260/260 [==============================] - 49s 187ms/step - loss: 0.0192\n",
            "Epoch 16/50\n",
            "260/260 [==============================] - 49s 187ms/step - loss: 0.0083\n",
            "Epoch 17/50\n",
            "260/260 [==============================] - 48s 185ms/step - loss: 0.0059\n",
            "Epoch 18/50\n",
            "260/260 [==============================] - 48s 185ms/step - loss: 0.0050\n",
            "Epoch 19/50\n",
            "260/260 [==============================] - 48s 185ms/step - loss: 0.0145\n",
            "Epoch 20/50\n",
            "260/260 [==============================] - 48s 184ms/step - loss: 0.0124\n",
            "Epoch 21/50\n",
            "260/260 [==============================] - 48s 184ms/step - loss: 0.0127\n",
            "Epoch 22/50\n",
            "260/260 [==============================] - 48s 185ms/step - loss: 0.0071\n",
            "Epoch 23/50\n",
            "260/260 [==============================] - 48s 184ms/step - loss: 0.0073\n",
            "Epoch 24/50\n",
            "260/260 [==============================] - 49s 187ms/step - loss: 0.0149\n",
            "Epoch 25/50\n",
            "260/260 [==============================] - 48s 184ms/step - loss: 0.0111\n",
            "Epoch 26/50\n",
            "260/260 [==============================] - 48s 186ms/step - loss: 0.0033\n",
            "Epoch 27/50\n",
            "260/260 [==============================] - 48s 185ms/step - loss: 0.0020\n",
            "Epoch 28/50\n",
            "260/260 [==============================] - 49s 187ms/step - loss: 0.0018\n",
            "Epoch 29/50\n",
            "260/260 [==============================] - 48s 185ms/step - loss: 0.0018\n",
            "Epoch 30/50\n",
            "260/260 [==============================] - 49s 188ms/step - loss: 0.0018\n",
            "Epoch 31/50\n",
            "260/260 [==============================] - 49s 187ms/step - loss: 0.0017\n",
            "Epoch 32/50\n",
            "260/260 [==============================] - 49s 188ms/step - loss: 0.0017\n",
            "Epoch 33/50\n",
            "260/260 [==============================] - 49s 189ms/step - loss: 0.0017\n",
            "Epoch 34/50\n",
            "260/260 [==============================] - 48s 186ms/step - loss: 0.0017\n",
            "Epoch 35/50\n",
            "260/260 [==============================] - 48s 186ms/step - loss: 0.0016\n",
            "Epoch 36/50\n",
            "260/260 [==============================] - 48s 185ms/step - loss: 0.0016\n",
            "Epoch 37/50\n",
            "260/260 [==============================] - 48s 185ms/step - loss: 0.0016\n",
            "Epoch 38/50\n",
            "260/260 [==============================] - 48s 186ms/step - loss: 0.0016\n",
            "Epoch 39/50\n",
            "260/260 [==============================] - 49s 188ms/step - loss: 0.0016\n",
            "Epoch 40/50\n",
            "260/260 [==============================] - 49s 188ms/step - loss: 0.0016\n",
            "Epoch 41/50\n",
            "260/260 [==============================] - 49s 188ms/step - loss: 0.0016\n",
            "Epoch 42/50\n",
            "260/260 [==============================] - 49s 189ms/step - loss: 0.0015\n",
            "Epoch 43/50\n",
            "260/260 [==============================] - 50s 193ms/step - loss: 0.0016\n",
            "Epoch 44/50\n",
            "260/260 [==============================] - 50s 192ms/step - loss: 0.0015\n",
            "Epoch 45/50\n",
            "260/260 [==============================] - 50s 192ms/step - loss: 0.0015\n",
            "Epoch 46/50\n",
            "260/260 [==============================] - 49s 188ms/step - loss: 0.0015\n",
            "Epoch 47/50\n",
            "260/260 [==============================] - 48s 186ms/step - loss: 0.0015\n",
            "Epoch 48/50\n",
            "260/260 [==============================] - 48s 185ms/step - loss: 0.0015\n",
            "Epoch 49/50\n",
            "260/260 [==============================] - 48s 186ms/step - loss: 0.0015\n",
            "Epoch 50/50\n",
            "260/260 [==============================] - 52s 202ms/step - loss: 0.0015\n"
          ],
          "name": "stdout"
        },
        {
          "output_type": "execute_result",
          "data": {
            "text/plain": [
              "<tensorflow.python.keras.callbacks.History at 0x7f3362019350>"
            ]
          },
          "metadata": {
            "tags": []
          },
          "execution_count": 0
        }
      ]
    },
    {
      "cell_type": "code",
      "metadata": {
        "colab": {
          "background_save": true,
          "base_uri": "https://localhost:8080/"
        },
        "id": "zeZd4kcTfQqu",
        "outputId": "394162de-1aec-4f8a-fb39-e5f719bf719b"
      },
      "source": [
        "y_pred = model5.predict(test_padded)\n",
        "y_pred = np.where(y_pred >= 0.5, 1, 0)\n",
        "print(classification_report(y_test,y_pred))"
      ],
      "execution_count": null,
      "outputs": [
        {
          "output_type": "stream",
          "text": [
            "              precision    recall  f1-score   support\n",
            "\n",
            "           0       0.85      0.84      0.85      3306\n",
            "           1       0.84      0.85      0.84      3174\n",
            "\n",
            "    accuracy                           0.85      6480\n",
            "   macro avg       0.85      0.85      0.85      6480\n",
            "weighted avg       0.85      0.85      0.85      6480\n",
            "\n"
          ],
          "name": "stdout"
        }
      ]
    },
    {
      "cell_type": "markdown",
      "metadata": {
        "id": "6MWYsDKjfT46"
      },
      "source": [
        "## LSTM"
      ]
    },
    {
      "cell_type": "code",
      "metadata": {
        "colab": {
          "background_save": true
        },
        "id": "58xOEmZ1fVij"
      },
      "source": [
        "# LSTM with single layer\n",
        "\n",
        "model6 = Sequential()\n",
        "model6.add(Embedding(vocab_len, 10, input_length=max_len, mask_zero=True))\n",
        "model6.add(LSTM(32, activation=\"tanh\"))\n",
        "model6.add(Dense(16, activation=\"tanh\"))\n",
        "model6.add(Dense(1,activation=\"sigmoid\"))"
      ],
      "execution_count": null,
      "outputs": []
    },
    {
      "cell_type": "code",
      "metadata": {
        "colab": {
          "background_save": true,
          "base_uri": "https://localhost:8080/"
        },
        "id": "boBgkIu2ffCZ",
        "outputId": "4d58e498-8009-478b-9204-c8f338e59d9e"
      },
      "source": [
        "model6.compile(loss=\"binary_crossentropy\", optimizer=\"adam\")\n",
        "model6.fit(train_padded,y_train,epochs=50,batch_size=100)"
      ],
      "execution_count": null,
      "outputs": [
        {
          "output_type": "stream",
          "text": [
            "Epoch 1/50\n",
            "260/260 [==============================] - 29s 96ms/step - loss: 0.4451\n",
            "Epoch 2/50\n",
            "260/260 [==============================] - 25s 97ms/step - loss: 0.2708\n",
            "Epoch 3/50\n",
            "260/260 [==============================] - 27s 102ms/step - loss: 0.2109\n",
            "Epoch 4/50\n",
            "260/260 [==============================] - 26s 99ms/step - loss: 0.1740\n",
            "Epoch 5/50\n",
            "260/260 [==============================] - 26s 99ms/step - loss: 0.1419\n",
            "Epoch 6/50\n",
            "260/260 [==============================] - 26s 100ms/step - loss: 0.1235\n",
            "Epoch 7/50\n",
            "260/260 [==============================] - 26s 100ms/step - loss: 0.1035\n",
            "Epoch 8/50\n",
            "260/260 [==============================] - 26s 102ms/step - loss: 0.0861\n",
            "Epoch 9/50\n",
            "260/260 [==============================] - 27s 105ms/step - loss: 0.0736\n",
            "Epoch 10/50\n",
            "260/260 [==============================] - 28s 107ms/step - loss: 0.0656\n",
            "Epoch 11/50\n",
            "260/260 [==============================] - 27s 104ms/step - loss: 0.0576\n",
            "Epoch 12/50\n",
            "260/260 [==============================] - 27s 104ms/step - loss: 0.0537\n",
            "Epoch 13/50\n",
            "260/260 [==============================] - 27s 104ms/step - loss: 0.0438\n",
            "Epoch 14/50\n",
            "260/260 [==============================] - 27s 103ms/step - loss: 0.0400\n",
            "Epoch 15/50\n",
            "260/260 [==============================] - 28s 106ms/step - loss: 0.0375\n",
            "Epoch 16/50\n",
            "260/260 [==============================] - 28s 109ms/step - loss: 0.0346\n",
            "Epoch 17/50\n",
            "260/260 [==============================] - 29s 112ms/step - loss: 0.0295\n",
            "Epoch 18/50\n",
            "260/260 [==============================] - 28s 109ms/step - loss: 0.0301\n",
            "Epoch 19/50\n",
            "260/260 [==============================] - 28s 109ms/step - loss: 0.0244\n",
            "Epoch 20/50\n",
            "260/260 [==============================] - 29s 112ms/step - loss: 0.0217\n",
            "Epoch 21/50\n",
            "260/260 [==============================] - 29s 113ms/step - loss: 0.0171\n",
            "Epoch 22/50\n",
            "260/260 [==============================] - 28s 106ms/step - loss: 0.0250\n",
            "Epoch 23/50\n",
            "260/260 [==============================] - 27s 103ms/step - loss: 0.0188\n",
            "Epoch 24/50\n",
            "260/260 [==============================] - 27s 105ms/step - loss: 0.0146\n",
            "Epoch 25/50\n",
            "260/260 [==============================] - 27s 103ms/step - loss: 0.0151\n",
            "Epoch 26/50\n",
            "260/260 [==============================] - 27s 103ms/step - loss: 0.0157\n",
            "Epoch 27/50\n",
            "260/260 [==============================] - 27s 103ms/step - loss: 0.0123\n",
            "Epoch 28/50\n",
            "260/260 [==============================] - 27s 103ms/step - loss: 0.0114\n",
            "Epoch 29/50\n",
            "260/260 [==============================] - 26s 98ms/step - loss: 0.0127\n",
            "Epoch 30/50\n",
            "260/260 [==============================] - 25s 95ms/step - loss: 0.0115\n",
            "Epoch 31/50\n",
            "260/260 [==============================] - 25s 98ms/step - loss: 0.0098\n",
            "Epoch 32/50\n",
            "260/260 [==============================] - 26s 99ms/step - loss: 0.0121\n",
            "Epoch 33/50\n",
            "260/260 [==============================] - 27s 103ms/step - loss: 0.0143\n",
            "Epoch 34/50\n",
            "260/260 [==============================] - 26s 101ms/step - loss: 0.0069\n",
            "Epoch 35/50\n",
            "260/260 [==============================] - 27s 104ms/step - loss: 0.0095\n",
            "Epoch 36/50\n",
            "260/260 [==============================] - 27s 103ms/step - loss: 0.0073\n",
            "Epoch 37/50\n",
            "260/260 [==============================] - 27s 102ms/step - loss: 0.0061\n",
            "Epoch 38/50\n",
            "260/260 [==============================] - 26s 100ms/step - loss: 0.0032\n",
            "Epoch 39/50\n",
            "260/260 [==============================] - 25s 97ms/step - loss: 0.0049\n",
            "Epoch 40/50\n",
            "260/260 [==============================] - 25s 96ms/step - loss: 0.0205\n",
            "Epoch 41/50\n",
            "260/260 [==============================] - 25s 95ms/step - loss: 0.0148\n",
            "Epoch 42/50\n",
            "260/260 [==============================] - 24s 94ms/step - loss: 0.0080\n",
            "Epoch 43/50\n",
            "260/260 [==============================] - 25s 94ms/step - loss: 0.0038\n",
            "Epoch 44/50\n",
            "260/260 [==============================] - 25s 95ms/step - loss: 0.0042\n",
            "Epoch 45/50\n",
            "260/260 [==============================] - 25s 95ms/step - loss: 0.0038\n",
            "Epoch 46/50\n",
            "260/260 [==============================] - 25s 96ms/step - loss: 0.0028\n",
            "Epoch 47/50\n",
            "260/260 [==============================] - 25s 95ms/step - loss: 0.0019\n",
            "Epoch 48/50\n",
            "260/260 [==============================] - 25s 95ms/step - loss: 0.0017\n",
            "Epoch 49/50\n",
            "260/260 [==============================] - 25s 97ms/step - loss: 0.0017\n",
            "Epoch 50/50\n",
            "260/260 [==============================] - 25s 96ms/step - loss: 0.0016\n"
          ],
          "name": "stdout"
        },
        {
          "output_type": "execute_result",
          "data": {
            "text/plain": [
              "<tensorflow.python.keras.callbacks.History at 0x7f335e5c2490>"
            ]
          },
          "metadata": {
            "tags": []
          },
          "execution_count": 0
        }
      ]
    },
    {
      "cell_type": "code",
      "metadata": {
        "colab": {
          "background_save": true
        },
        "id": "hXDTRBohffJl",
        "outputId": "60a6c0bf-83fd-432a-f59d-8f8c0f85194e"
      },
      "source": [
        "y_pred = model6.predict(test_padded)\n",
        "y_pred = np.where(y_pred >= 0.5, 1, 0)\n",
        "print(classification_report(y_test,y_pred))"
      ],
      "execution_count": null,
      "outputs": [
        {
          "output_type": "stream",
          "text": [
            "              precision    recall  f1-score   support\n",
            "\n",
            "           0       0.84      0.83      0.84      3306\n",
            "           1       0.83      0.83      0.83      3174\n",
            "\n",
            "    accuracy                           0.83      6480\n",
            "   macro avg       0.83      0.83      0.83      6480\n",
            "weighted avg       0.83      0.83      0.83      6480\n",
            "\n"
          ],
          "name": "stdout"
        }
      ]
    },
    {
      "cell_type": "code",
      "metadata": {
        "colab": {
          "background_save": true
        },
        "id": "1vnEiJ_rffMb"
      },
      "source": [
        "# LSTM with multiple layer\n",
        "\n",
        "model7 = Sequential()\n",
        "model7.add(Embedding(vocab_len, 10, input_length=max_len, mask_zero=True))\n",
        "model7.add(LSTM(32, activation=\"tanh\", return_sequences=True))\n",
        "model7.add(LSTM(32, activation=\"tanh\"))\n",
        "model7.add(Dense(16, activation=\"tanh\"))\n",
        "model7.add(Dense(1,activation=\"sigmoid\"))"
      ],
      "execution_count": null,
      "outputs": []
    },
    {
      "cell_type": "code",
      "metadata": {
        "colab": {
          "background_save": true
        },
        "id": "9dSgubIXffSF",
        "outputId": "46c2a40a-edf5-44ab-d7e4-487fdb4b151d"
      },
      "source": [
        "model7.compile(loss=\"binary_crossentropy\", optimizer=\"adam\")\n",
        "model7.fit(train_padded,y_train,epochs=50,batch_size=100)"
      ],
      "execution_count": null,
      "outputs": [
        {
          "output_type": "stream",
          "text": [
            "Epoch 1/50\n",
            "260/260 [==============================] - 55s 180ms/step - loss: 0.4494\n",
            "Epoch 2/50\n",
            "260/260 [==============================] - 47s 182ms/step - loss: 0.2728\n",
            "Epoch 3/50\n",
            "260/260 [==============================] - 47s 182ms/step - loss: 0.2141\n",
            "Epoch 4/50\n",
            "260/260 [==============================] - 48s 185ms/step - loss: 0.1744\n",
            "Epoch 5/50\n",
            "260/260 [==============================] - 48s 184ms/step - loss: 0.1446\n",
            "Epoch 6/50\n",
            "260/260 [==============================] - 47s 183ms/step - loss: 0.1186\n",
            "Epoch 7/50\n",
            "260/260 [==============================] - 47s 182ms/step - loss: 0.0994\n",
            "Epoch 8/50\n",
            "260/260 [==============================] - 47s 179ms/step - loss: 0.0855\n",
            "Epoch 9/50\n",
            "260/260 [==============================] - 47s 181ms/step - loss: 0.0696\n",
            "Epoch 10/50\n",
            "260/260 [==============================] - 48s 183ms/step - loss: 0.0634\n",
            "Epoch 11/50\n",
            "260/260 [==============================] - 47s 182ms/step - loss: 0.0513\n",
            "Epoch 12/50\n",
            "260/260 [==============================] - 46s 178ms/step - loss: 0.0470\n",
            "Epoch 13/50\n",
            "260/260 [==============================] - 47s 180ms/step - loss: 0.0442\n",
            "Epoch 14/50\n",
            "260/260 [==============================] - 46s 177ms/step - loss: 0.0354\n",
            "Epoch 15/50\n",
            "260/260 [==============================] - 47s 179ms/step - loss: 0.0303\n",
            "Epoch 16/50\n",
            "260/260 [==============================] - 47s 180ms/step - loss: 0.0271\n",
            "Epoch 17/50\n",
            "260/260 [==============================] - 47s 180ms/step - loss: 0.0202\n",
            "Epoch 18/50\n",
            "260/260 [==============================] - 47s 180ms/step - loss: 0.0223\n",
            "Epoch 19/50\n",
            "260/260 [==============================] - 47s 179ms/step - loss: 0.0189\n",
            "Epoch 20/50\n",
            "260/260 [==============================] - 47s 182ms/step - loss: 0.0198\n",
            "Epoch 21/50\n",
            "260/260 [==============================] - 47s 180ms/step - loss: 0.0188\n",
            "Epoch 22/50\n",
            "260/260 [==============================] - 47s 181ms/step - loss: 0.0180\n",
            "Epoch 23/50\n",
            "260/260 [==============================] - 47s 179ms/step - loss: 0.0211\n",
            "Epoch 24/50\n",
            "260/260 [==============================] - 47s 180ms/step - loss: 0.0166\n",
            "Epoch 25/50\n",
            "260/260 [==============================] - 47s 179ms/step - loss: 0.0130\n",
            "Epoch 26/50\n",
            "260/260 [==============================] - 47s 179ms/step - loss: 0.0116\n",
            "Epoch 27/50\n",
            "260/260 [==============================] - 46s 178ms/step - loss: 0.0128\n",
            "Epoch 28/50\n",
            "260/260 [==============================] - 47s 179ms/step - loss: 0.0090\n",
            "Epoch 29/50\n",
            "260/260 [==============================] - 46s 178ms/step - loss: 0.0135\n",
            "Epoch 30/50\n",
            "260/260 [==============================] - 46s 179ms/step - loss: 0.0136\n",
            "Epoch 31/50\n",
            "260/260 [==============================] - 46s 178ms/step - loss: 0.0122\n",
            "Epoch 32/50\n",
            "260/260 [==============================] - 46s 178ms/step - loss: 0.0096\n",
            "Epoch 33/50\n",
            "260/260 [==============================] - 47s 180ms/step - loss: 0.0081\n",
            "Epoch 34/50\n",
            "260/260 [==============================] - 46s 178ms/step - loss: 0.0085\n",
            "Epoch 35/50\n",
            "260/260 [==============================] - 47s 179ms/step - loss: 0.0120\n",
            "Epoch 36/50\n",
            "260/260 [==============================] - 47s 179ms/step - loss: 0.0164\n",
            "Epoch 37/50\n",
            "260/260 [==============================] - 47s 179ms/step - loss: 0.0086\n",
            "Epoch 38/50\n",
            "260/260 [==============================] - 46s 178ms/step - loss: 0.0065\n",
            "Epoch 39/50\n",
            "260/260 [==============================] - 47s 180ms/step - loss: 0.0045\n",
            "Epoch 40/50\n",
            "260/260 [==============================] - 46s 178ms/step - loss: 0.0039\n",
            "Epoch 41/50\n",
            "260/260 [==============================] - 47s 179ms/step - loss: 0.0035\n",
            "Epoch 42/50\n",
            "260/260 [==============================] - 46s 179ms/step - loss: 0.0034\n",
            "Epoch 43/50\n",
            "260/260 [==============================] - 47s 179ms/step - loss: 0.0033\n",
            "Epoch 44/50\n",
            "260/260 [==============================] - 47s 179ms/step - loss: 0.0032\n",
            "Epoch 45/50\n",
            "260/260 [==============================] - 47s 181ms/step - loss: 0.0032\n",
            "Epoch 46/50\n",
            "260/260 [==============================] - 48s 183ms/step - loss: 0.0031\n",
            "Epoch 47/50\n",
            "260/260 [==============================] - 47s 181ms/step - loss: 0.0031\n",
            "Epoch 48/50\n",
            "260/260 [==============================] - 47s 182ms/step - loss: 0.0301\n",
            "Epoch 49/50\n",
            "260/260 [==============================] - 47s 180ms/step - loss: 0.0162\n",
            "Epoch 50/50\n",
            "260/260 [==============================] - 47s 182ms/step - loss: 0.0105\n"
          ],
          "name": "stdout"
        },
        {
          "output_type": "execute_result",
          "data": {
            "text/plain": [
              "<tensorflow.python.keras.callbacks.History at 0x7f335bc082d0>"
            ]
          },
          "metadata": {
            "tags": []
          },
          "execution_count": 0
        }
      ]
    },
    {
      "cell_type": "code",
      "metadata": {
        "colab": {
          "background_save": true
        },
        "id": "kxVdIF-DffVm",
        "outputId": "9e567185-adc2-409f-e959-06380ae13436"
      },
      "source": [
        "y_pred = model7.predict(test_padded)\n",
        "y_pred = np.where(y_pred >= 0.5, 1, 0)\n",
        "print(classification_report(y_test,y_pred))"
      ],
      "execution_count": null,
      "outputs": [
        {
          "output_type": "stream",
          "text": [
            "              precision    recall  f1-score   support\n",
            "\n",
            "           0       0.83      0.85      0.84      3306\n",
            "           1       0.84      0.82      0.83      3174\n",
            "\n",
            "    accuracy                           0.84      6480\n",
            "   macro avg       0.84      0.84      0.84      6480\n",
            "weighted avg       0.84      0.84      0.84      6480\n",
            "\n"
          ],
          "name": "stdout"
        }
      ]
    },
    {
      "cell_type": "code",
      "metadata": {
        "colab": {
          "background_save": true
        },
        "id": "Hs2m7szaffba"
      },
      "source": [
        "# LSTM Bidirectional with single layer\n",
        "\n",
        "model8 = Sequential()\n",
        "model8.add(Embedding(vocab_len, 10, input_length=max_len, mask_zero=True))\n",
        "model8.add(Bidirectional(LSTM(32, activation=\"tanh\")))\n",
        "model8.add(Dense(16, activation=\"tanh\"))\n",
        "model8.add(Dense(1,activation=\"sigmoid\"))"
      ],
      "execution_count": null,
      "outputs": []
    },
    {
      "cell_type": "code",
      "metadata": {
        "colab": {
          "background_save": true,
          "base_uri": "https://localhost:8080/"
        },
        "id": "YhN390FTffeU",
        "outputId": "a86437e0-c9d5-4cf2-aa24-a38f826e08c8"
      },
      "source": [
        "model8.compile(loss=\"binary_crossentropy\", optimizer=\"adam\")\n",
        "model8.fit(train_padded,y_train,epochs=50,batch_size=100)"
      ],
      "execution_count": null,
      "outputs": [
        {
          "output_type": "stream",
          "text": [
            "Epoch 1/50\n",
            "260/260 [==============================] - 48s 156ms/step - loss: 0.4434\n",
            "Epoch 2/50\n",
            "260/260 [==============================] - 41s 156ms/step - loss: 0.2595\n",
            "Epoch 3/50\n",
            "260/260 [==============================] - 41s 156ms/step - loss: 0.1966\n",
            "Epoch 4/50\n",
            "260/260 [==============================] - 40s 155ms/step - loss: 0.1492\n",
            "Epoch 5/50\n",
            "260/260 [==============================] - 40s 155ms/step - loss: 0.1115\n",
            "Epoch 6/50\n",
            "260/260 [==============================] - 40s 155ms/step - loss: 0.0832\n",
            "Epoch 7/50\n",
            "260/260 [==============================] - 40s 155ms/step - loss: 0.0640\n",
            "Epoch 8/50\n",
            "260/260 [==============================] - 40s 156ms/step - loss: 0.0484\n",
            "Epoch 9/50\n",
            "260/260 [==============================] - 41s 157ms/step - loss: 0.0376\n",
            "Epoch 10/50\n",
            "260/260 [==============================] - 40s 156ms/step - loss: 0.0288\n",
            "Epoch 11/50\n",
            "260/260 [==============================] - 41s 157ms/step - loss: 0.0259\n",
            "Epoch 12/50\n",
            "260/260 [==============================] - 41s 157ms/step - loss: 0.0190\n",
            "Epoch 13/50\n",
            "260/260 [==============================] - 41s 156ms/step - loss: 0.0223\n",
            "Epoch 14/50\n",
            "260/260 [==============================] - 41s 156ms/step - loss: 0.0173\n",
            "Epoch 15/50\n",
            "260/260 [==============================] - 41s 156ms/step - loss: 0.0158\n",
            "Epoch 16/50\n",
            "260/260 [==============================] - 41s 156ms/step - loss: 0.0113\n",
            "Epoch 17/50\n",
            "260/260 [==============================] - 40s 155ms/step - loss: 0.0092\n",
            "Epoch 18/50\n",
            "260/260 [==============================] - 40s 155ms/step - loss: 0.0078\n",
            "Epoch 19/50\n",
            "260/260 [==============================] - 40s 155ms/step - loss: 0.0099\n",
            "Epoch 20/50\n",
            "260/260 [==============================] - 40s 156ms/step - loss: 0.0113\n",
            "Epoch 21/50\n",
            "260/260 [==============================] - 40s 155ms/step - loss: 0.0158\n",
            "Epoch 22/50\n",
            "260/260 [==============================] - 40s 156ms/step - loss: 0.0116\n",
            "Epoch 23/50\n",
            "260/260 [==============================] - 40s 155ms/step - loss: 0.0052\n",
            "Epoch 24/50\n",
            "260/260 [==============================] - 40s 154ms/step - loss: 0.0032\n",
            "Epoch 25/50\n",
            "260/260 [==============================] - 41s 156ms/step - loss: 0.0026\n",
            "Epoch 26/50\n",
            "260/260 [==============================] - 41s 156ms/step - loss: 0.0024\n",
            "Epoch 27/50\n",
            "260/260 [==============================] - 41s 157ms/step - loss: 0.0024\n",
            "Epoch 28/50\n",
            "260/260 [==============================] - 41s 156ms/step - loss: 0.0023\n",
            "Epoch 29/50\n",
            "260/260 [==============================] - 41s 156ms/step - loss: 0.0023\n",
            "Epoch 30/50\n",
            "260/260 [==============================] - 41s 157ms/step - loss: 0.0022\n",
            "Epoch 31/50\n",
            "260/260 [==============================] - 41s 156ms/step - loss: 0.0022\n",
            "Epoch 32/50\n",
            "260/260 [==============================] - 41s 157ms/step - loss: 0.0308\n",
            "Epoch 33/50\n",
            "260/260 [==============================] - 40s 156ms/step - loss: 0.0170\n",
            "Epoch 34/50\n",
            "260/260 [==============================] - 41s 156ms/step - loss: 0.0062\n",
            "Epoch 35/50\n",
            "260/260 [==============================] - 40s 156ms/step - loss: 0.0028\n",
            "Epoch 36/50\n",
            "260/260 [==============================] - 41s 156ms/step - loss: 0.0020\n",
            "Epoch 37/50\n",
            "260/260 [==============================] - 40s 156ms/step - loss: 0.0018\n",
            "Epoch 38/50\n",
            "260/260 [==============================] - 41s 156ms/step - loss: 0.0018\n",
            "Epoch 39/50\n",
            "260/260 [==============================] - 41s 157ms/step - loss: 0.0017\n",
            "Epoch 40/50\n",
            "260/260 [==============================] - 41s 156ms/step - loss: 0.0017\n",
            "Epoch 41/50\n",
            "260/260 [==============================] - 41s 156ms/step - loss: 0.0016\n",
            "Epoch 42/50\n",
            "260/260 [==============================] - 41s 156ms/step - loss: 0.0016\n",
            "Epoch 43/50\n",
            "260/260 [==============================] - 41s 156ms/step - loss: 0.0016\n",
            "Epoch 44/50\n",
            "260/260 [==============================] - 41s 157ms/step - loss: 0.0016\n",
            "Epoch 45/50\n",
            "260/260 [==============================] - 41s 157ms/step - loss: 0.0016\n",
            "Epoch 46/50\n",
            "260/260 [==============================] - 41s 159ms/step - loss: 0.0016\n",
            "Epoch 47/50\n",
            "260/260 [==============================] - 41s 157ms/step - loss: 0.0016\n",
            "Epoch 48/50\n",
            "260/260 [==============================] - 41s 157ms/step - loss: 0.0016\n",
            "Epoch 49/50\n",
            "260/260 [==============================] - 41s 156ms/step - loss: 0.0016\n",
            "Epoch 50/50\n",
            "260/260 [==============================] - 41s 156ms/step - loss: 0.0016\n"
          ],
          "name": "stdout"
        },
        {
          "output_type": "execute_result",
          "data": {
            "text/plain": [
              "<tensorflow.python.keras.callbacks.History at 0x7f33513c12d0>"
            ]
          },
          "metadata": {
            "tags": []
          },
          "execution_count": 0
        }
      ]
    },
    {
      "cell_type": "code",
      "metadata": {
        "colab": {
          "background_save": true
        },
        "id": "yzWyK39hffjq",
        "outputId": "64aa53c4-3efb-4e63-d68c-01f8f9dc796b"
      },
      "source": [
        "y_pred = model8.predict(test_padded)\n",
        "y_pred = np.where(y_pred >= 0.5, 1, 0)\n",
        "print(classification_report(y_test,y_pred))"
      ],
      "execution_count": null,
      "outputs": [
        {
          "output_type": "stream",
          "text": [
            "              precision    recall  f1-score   support\n",
            "\n",
            "           0       0.85      0.83      0.84      3306\n",
            "           1       0.83      0.85      0.84      3174\n",
            "\n",
            "    accuracy                           0.84      6480\n",
            "   macro avg       0.84      0.84      0.84      6480\n",
            "weighted avg       0.84      0.84      0.84      6480\n",
            "\n"
          ],
          "name": "stdout"
        }
      ]
    },
    {
      "cell_type": "code",
      "metadata": {
        "colab": {
          "background_save": true
        },
        "id": "JiPDO2QOffmu"
      },
      "source": [
        "# LSTM Bidirectional with multiple layer\n",
        "\n",
        "model9 = Sequential()\n",
        "model9.add(Embedding(vocab_len, 10, input_length=max_len, mask_zero=True))\n",
        "model9.add(Bidirectional(LSTM(32, activation=\"tanh\", return_sequences=True)))\n",
        "model9.add(Bidirectional(LSTM(32, activation=\"tanh\")))\n",
        "model9.add(Dense(16, activation=\"tanh\"))\n",
        "model9.add(Dense(1,activation=\"sigmoid\"))"
      ],
      "execution_count": null,
      "outputs": []
    },
    {
      "cell_type": "code",
      "metadata": {
        "id": "g-5n0e3bffsk",
        "colab": {
          "base_uri": "https://localhost:8080/"
        },
        "outputId": "438b20cd-14ba-4c5a-c594-135dde8dbab1"
      },
      "source": [
        "model9.compile(loss=\"binary_crossentropy\", optimizer=\"adam\")\n",
        "model9.fit(train_padded,y_train,epochs=50,batch_size=100)"
      ],
      "execution_count": null,
      "outputs": [
        {
          "output_type": "stream",
          "text": [
            "Epoch 1/50\n",
            "260/260 [==============================] - 101s 330ms/step - loss: 0.4193\n",
            "Epoch 2/50\n",
            "260/260 [==============================] - 86s 331ms/step - loss: 0.2516\n",
            "Epoch 3/50\n",
            "260/260 [==============================] - 85s 328ms/step - loss: 0.1885\n",
            "Epoch 4/50\n",
            "260/260 [==============================] - 85s 328ms/step - loss: 0.1425\n",
            "Epoch 5/50\n",
            "260/260 [==============================] - 85s 329ms/step - loss: 0.1080\n",
            "Epoch 6/50\n",
            "260/260 [==============================] - 85s 328ms/step - loss: 0.0857\n",
            "Epoch 7/50\n",
            "260/260 [==============================] - 85s 327ms/step - loss: 0.0678\n",
            "Epoch 8/50\n",
            "260/260 [==============================] - 85s 329ms/step - loss: 0.0617\n",
            "Epoch 9/50\n",
            "260/260 [==============================] - 84s 322ms/step - loss: 0.0493\n",
            "Epoch 10/50\n",
            "260/260 [==============================] - 84s 323ms/step - loss: 0.0451\n",
            "Epoch 11/50\n",
            "260/260 [==============================] - 85s 328ms/step - loss: 0.0410\n",
            "Epoch 12/50\n",
            "260/260 [==============================] - 85s 328ms/step - loss: 0.0369\n",
            "Epoch 13/50\n",
            "260/260 [==============================] - 85s 329ms/step - loss: 0.0318\n",
            "Epoch 14/50\n",
            "260/260 [==============================] - 85s 328ms/step - loss: 0.0300\n",
            "Epoch 15/50\n",
            "260/260 [==============================] - 86s 329ms/step - loss: 0.0309\n",
            "Epoch 16/50\n",
            "260/260 [==============================] - 85s 328ms/step - loss: 0.0281\n",
            "Epoch 17/50\n",
            "260/260 [==============================] - 85s 329ms/step - loss: 0.0268\n",
            "Epoch 18/50\n",
            "260/260 [==============================] - 85s 329ms/step - loss: 0.0222\n",
            "Epoch 19/50\n",
            "260/260 [==============================] - 85s 329ms/step - loss: 0.0229\n",
            "Epoch 20/50\n",
            "260/260 [==============================] - 88s 337ms/step - loss: 0.0213\n",
            "Epoch 21/50\n",
            "260/260 [==============================] - 87s 334ms/step - loss: 0.0213\n",
            "Epoch 22/50\n",
            "260/260 [==============================] - 87s 335ms/step - loss: 0.0229\n",
            "Epoch 23/50\n",
            "260/260 [==============================] - 87s 334ms/step - loss: 0.0169\n",
            "Epoch 24/50\n",
            "260/260 [==============================] - 87s 333ms/step - loss: 0.0193\n",
            "Epoch 25/50\n",
            "260/260 [==============================] - 87s 334ms/step - loss: 0.0177\n",
            "Epoch 26/50\n",
            "260/260 [==============================] - 87s 335ms/step - loss: 0.0167\n",
            "Epoch 27/50\n",
            "260/260 [==============================] - 88s 337ms/step - loss: 0.0167\n",
            "Epoch 28/50\n",
            "260/260 [==============================] - 87s 334ms/step - loss: 0.0163\n",
            "Epoch 29/50\n",
            "260/260 [==============================] - 87s 335ms/step - loss: 0.0197\n",
            "Epoch 30/50\n",
            "260/260 [==============================] - 86s 332ms/step - loss: 0.0178\n",
            "Epoch 31/50\n",
            "260/260 [==============================] - 86s 330ms/step - loss: 0.0116\n",
            "Epoch 32/50\n",
            "260/260 [==============================] - 85s 329ms/step - loss: 0.0113\n",
            "Epoch 33/50\n",
            "260/260 [==============================] - 86s 329ms/step - loss: 0.0120\n",
            "Epoch 34/50\n",
            "260/260 [==============================] - 85s 328ms/step - loss: 0.0221\n",
            "Epoch 35/50\n",
            "260/260 [==============================] - 86s 330ms/step - loss: 0.0142\n",
            "Epoch 36/50\n",
            "260/260 [==============================] - 86s 329ms/step - loss: 0.0132\n",
            "Epoch 37/50\n",
            "260/260 [==============================] - 85s 329ms/step - loss: 0.0134\n",
            "Epoch 38/50\n",
            "260/260 [==============================] - 86s 330ms/step - loss: 0.0160\n",
            "Epoch 39/50\n",
            "260/260 [==============================] - 86s 330ms/step - loss: 0.0152\n",
            "Epoch 40/50\n",
            "260/260 [==============================] - 86s 330ms/step - loss: 0.0117\n",
            "Epoch 41/50\n",
            "260/260 [==============================] - 86s 331ms/step - loss: 0.0102\n",
            "Epoch 42/50\n",
            "260/260 [==============================] - 86s 331ms/step - loss: 0.0109\n",
            "Epoch 43/50\n",
            "260/260 [==============================] - 86s 331ms/step - loss: 0.0121\n",
            "Epoch 44/50\n",
            "260/260 [==============================] - 86s 331ms/step - loss: 0.0111\n",
            "Epoch 45/50\n",
            "260/260 [==============================] - 86s 331ms/step - loss: 0.0108\n",
            "Epoch 46/50\n",
            "260/260 [==============================] - 86s 330ms/step - loss: 0.0116\n",
            "Epoch 47/50\n",
            "260/260 [==============================] - 86s 329ms/step - loss: 0.0161\n",
            "Epoch 48/50\n",
            "260/260 [==============================] - 86s 329ms/step - loss: 0.0125\n",
            "Epoch 49/50\n",
            "260/260 [==============================] - 85s 329ms/step - loss: 0.0106\n",
            "Epoch 50/50\n",
            "260/260 [==============================] - 86s 329ms/step - loss: 0.0109\n"
          ],
          "name": "stdout"
        },
        {
          "output_type": "execute_result",
          "data": {
            "text/plain": [
              "<tensorflow.python.keras.callbacks.History at 0x7f334e517650>"
            ]
          },
          "metadata": {
            "tags": []
          },
          "execution_count": 62
        }
      ]
    },
    {
      "cell_type": "code",
      "metadata": {
        "id": "NFt0Bm_DffwP",
        "colab": {
          "base_uri": "https://localhost:8080/"
        },
        "outputId": "cf62c5c7-af99-4cc4-8677-71697a6c26ec"
      },
      "source": [
        "y_pred = model9.predict(test_padded)\n",
        "y_pred = np.where(y_pred >= 0.5, 1, 0)\n",
        "print(classification_report(y_test,y_pred))"
      ],
      "execution_count": null,
      "outputs": [
        {
          "output_type": "stream",
          "text": [
            "              precision    recall  f1-score   support\n",
            "\n",
            "           0       0.83      0.85      0.84      3306\n",
            "           1       0.84      0.82      0.83      3174\n",
            "\n",
            "    accuracy                           0.84      6480\n",
            "   macro avg       0.84      0.84      0.84      6480\n",
            "weighted avg       0.84      0.84      0.84      6480\n",
            "\n"
          ],
          "name": "stdout"
        }
      ]
    },
    {
      "cell_type": "markdown",
      "metadata": {
        "id": "5bjhwmn2ff0D"
      },
      "source": [
        "## GRU"
      ]
    },
    {
      "cell_type": "code",
      "metadata": {
        "id": "86G9H0wsff6m"
      },
      "source": [
        "# GRU with single Layer\n",
        " \n",
        "model_10 = Sequential()\n",
        "model_10.add(Embedding(vocab_len, 10, input_length=max_len, mask_zero=True))\n",
        "model_10.add(GRU(32, activation=\"tanh\"))\n",
        "model_10.add(Dense(16, activation=\"tanh\"))\n",
        "model_10.add(Dense(1,activation=\"sigmoid\"))"
      ],
      "execution_count": null,
      "outputs": []
    },
    {
      "cell_type": "code",
      "metadata": {
        "id": "SI7x6VQ5ff8s",
        "colab": {
          "base_uri": "https://localhost:8080/"
        },
        "outputId": "151bda87-970d-499c-db96-28419e5a609b"
      },
      "source": [
        "model_10.compile(loss=\"binary_crossentropy\", optimizer=\"adam\")\n",
        "model_10.fit(train_padded,y_train,epochs=50,batch_size=100)"
      ],
      "execution_count": null,
      "outputs": [
        {
          "output_type": "stream",
          "text": [
            "Epoch 1/50\n",
            "260/260 [==============================] - 23s 76ms/step - loss: 0.4471\n",
            "Epoch 2/50\n",
            "260/260 [==============================] - 20s 76ms/step - loss: 0.2700\n",
            "Epoch 3/50\n",
            "260/260 [==============================] - 20s 76ms/step - loss: 0.2125\n",
            "Epoch 4/50\n",
            "260/260 [==============================] - 20s 76ms/step - loss: 0.1783\n",
            "Epoch 5/50\n",
            "260/260 [==============================] - 20s 76ms/step - loss: 0.1485\n",
            "Epoch 6/50\n",
            "260/260 [==============================] - 20s 76ms/step - loss: 0.1305\n",
            "Epoch 7/50\n",
            "260/260 [==============================] - 20s 76ms/step - loss: 0.1184\n",
            "Epoch 8/50\n",
            "260/260 [==============================] - 20s 76ms/step - loss: 0.1073\n",
            "Epoch 9/50\n",
            "260/260 [==============================] - 20s 76ms/step - loss: 0.0954\n",
            "Epoch 10/50\n",
            "260/260 [==============================] - 20s 77ms/step - loss: 0.0907\n",
            "Epoch 11/50\n",
            "260/260 [==============================] - 20s 76ms/step - loss: 0.0826\n",
            "Epoch 12/50\n",
            "260/260 [==============================] - 20s 77ms/step - loss: 0.0803\n",
            "Epoch 13/50\n",
            "260/260 [==============================] - 20s 77ms/step - loss: 0.0742\n",
            "Epoch 14/50\n",
            "260/260 [==============================] - 20s 76ms/step - loss: 0.0668\n",
            "Epoch 15/50\n",
            "260/260 [==============================] - 20s 76ms/step - loss: 0.0638\n",
            "Epoch 16/50\n",
            "260/260 [==============================] - 20s 77ms/step - loss: 0.0573\n",
            "Epoch 17/50\n",
            "260/260 [==============================] - 20s 76ms/step - loss: 0.0503\n",
            "Epoch 18/50\n",
            "260/260 [==============================] - 20s 76ms/step - loss: 0.0440\n",
            "Epoch 19/50\n",
            "260/260 [==============================] - 20s 77ms/step - loss: 0.0393\n",
            "Epoch 20/50\n",
            "260/260 [==============================] - 20s 77ms/step - loss: 0.0411\n",
            "Epoch 21/50\n",
            "260/260 [==============================] - 20s 77ms/step - loss: 0.0451\n",
            "Epoch 22/50\n",
            "260/260 [==============================] - 20s 77ms/step - loss: 0.0353\n",
            "Epoch 23/50\n",
            "260/260 [==============================] - 20s 77ms/step - loss: 0.0312\n",
            "Epoch 24/50\n",
            "260/260 [==============================] - 20s 77ms/step - loss: 0.0315\n",
            "Epoch 25/50\n",
            "260/260 [==============================] - 20s 76ms/step - loss: 0.0289\n",
            "Epoch 26/50\n",
            "260/260 [==============================] - 20s 76ms/step - loss: 0.0340\n",
            "Epoch 27/50\n",
            "260/260 [==============================] - 20s 76ms/step - loss: 0.0290\n",
            "Epoch 28/50\n",
            "260/260 [==============================] - 20s 77ms/step - loss: 0.0259\n",
            "Epoch 29/50\n",
            "260/260 [==============================] - 20s 76ms/step - loss: 0.0275\n",
            "Epoch 30/50\n",
            "260/260 [==============================] - 20s 76ms/step - loss: 0.0289\n",
            "Epoch 31/50\n",
            "260/260 [==============================] - 20s 76ms/step - loss: 0.0234\n",
            "Epoch 32/50\n",
            "260/260 [==============================] - 20s 76ms/step - loss: 0.0212\n",
            "Epoch 33/50\n",
            "260/260 [==============================] - 20s 76ms/step - loss: 0.0175\n",
            "Epoch 34/50\n",
            "260/260 [==============================] - 20s 76ms/step - loss: 0.0177\n",
            "Epoch 35/50\n",
            "260/260 [==============================] - 20s 76ms/step - loss: 0.0186\n",
            "Epoch 36/50\n",
            "260/260 [==============================] - 20s 76ms/step - loss: 0.0238\n",
            "Epoch 37/50\n",
            "260/260 [==============================] - 20s 76ms/step - loss: 0.0248\n",
            "Epoch 38/50\n",
            "260/260 [==============================] - 19s 75ms/step - loss: 0.0209\n",
            "Epoch 39/50\n",
            "260/260 [==============================] - 20s 75ms/step - loss: 0.0161\n",
            "Epoch 40/50\n",
            "260/260 [==============================] - 20s 76ms/step - loss: 0.0201\n",
            "Epoch 41/50\n",
            "260/260 [==============================] - 20s 75ms/step - loss: 0.0170\n",
            "Epoch 42/50\n",
            "260/260 [==============================] - 20s 75ms/step - loss: 0.0148\n",
            "Epoch 43/50\n",
            "260/260 [==============================] - 20s 76ms/step - loss: 0.0176\n",
            "Epoch 44/50\n",
            "260/260 [==============================] - 20s 75ms/step - loss: 0.0186\n",
            "Epoch 45/50\n",
            "260/260 [==============================] - 20s 75ms/step - loss: 0.0146\n",
            "Epoch 46/50\n",
            "260/260 [==============================] - 20s 76ms/step - loss: 0.0111\n",
            "Epoch 47/50\n",
            "260/260 [==============================] - 20s 75ms/step - loss: 0.0109\n",
            "Epoch 48/50\n",
            "260/260 [==============================] - 20s 76ms/step - loss: 0.0190\n",
            "Epoch 49/50\n",
            "260/260 [==============================] - 20s 76ms/step - loss: 0.0160\n",
            "Epoch 50/50\n",
            "260/260 [==============================] - 20s 76ms/step - loss: 0.0131\n"
          ],
          "name": "stdout"
        },
        {
          "output_type": "execute_result",
          "data": {
            "text/plain": [
              "<tensorflow.python.keras.callbacks.History at 0x7f25b5baab90>"
            ]
          },
          "metadata": {
            "tags": []
          },
          "execution_count": 39
        }
      ]
    },
    {
      "cell_type": "code",
      "metadata": {
        "id": "CfpJzJ0tfgDU",
        "colab": {
          "base_uri": "https://localhost:8080/"
        },
        "outputId": "f9779b88-02ed-46fb-a3b7-5890835a44a5"
      },
      "source": [
        "y_pred = model_10.predict(test_padded)\n",
        "y_pred = np.where(y_pred >= 0.5, 1, 0)\n",
        "print(classification_report(y_test,y_pred))"
      ],
      "execution_count": null,
      "outputs": [
        {
          "output_type": "stream",
          "text": [
            "              precision    recall  f1-score   support\n",
            "\n",
            "           0       0.84      0.83      0.83      3306\n",
            "           1       0.82      0.83      0.83      3174\n",
            "\n",
            "    accuracy                           0.83      6480\n",
            "   macro avg       0.83      0.83      0.83      6480\n",
            "weighted avg       0.83      0.83      0.83      6480\n",
            "\n"
          ],
          "name": "stdout"
        }
      ]
    },
    {
      "cell_type": "code",
      "metadata": {
        "id": "nfhNwIpUfgFC"
      },
      "source": [
        "# GRU with multiple layer\n",
        " \n",
        "model_11 = Sequential()\n",
        "model_11.add(Embedding(vocab_len, 10, input_length=max_len, mask_zero=True))\n",
        "model_11.add(GRU(32, activation=\"tanh\", return_sequences=True))\n",
        "model_11.add(GRU(32, activation=\"tanh\"))\n",
        "model_11.add(Dense(16, activation=\"tanh\"))\n",
        "model_11.add(Dense(1,activation=\"sigmoid\"))"
      ],
      "execution_count": 38,
      "outputs": []
    },
    {
      "cell_type": "code",
      "metadata": {
        "id": "FetI-63bfgLA",
        "colab": {
          "base_uri": "https://localhost:8080/"
        },
        "outputId": "49309d45-364d-4921-f5e8-e1fea2e01baa"
      },
      "source": [
        "model_11.compile(loss=\"binary_crossentropy\", optimizer=\"adam\")\n",
        "model_11.fit(train_padded,y_train,epochs=50,batch_size=100)"
      ],
      "execution_count": 39,
      "outputs": [
        {
          "output_type": "stream",
          "text": [
            "Epoch 1/50\n",
            "260/260 [==============================] - 42s 137ms/step - loss: 0.4700\n",
            "Epoch 2/50\n",
            "260/260 [==============================] - 35s 137ms/step - loss: 0.2860\n",
            "Epoch 3/50\n",
            "260/260 [==============================] - 36s 137ms/step - loss: 0.2229\n",
            "Epoch 4/50\n",
            "260/260 [==============================] - 36s 137ms/step - loss: 0.1835\n",
            "Epoch 5/50\n",
            "260/260 [==============================] - 36s 137ms/step - loss: 0.1582\n",
            "Epoch 6/50\n",
            "260/260 [==============================] - 36s 137ms/step - loss: 0.1391\n",
            "Epoch 7/50\n",
            "260/260 [==============================] - 36s 138ms/step - loss: 0.1190\n",
            "Epoch 8/50\n",
            "260/260 [==============================] - 36s 139ms/step - loss: 0.1032\n",
            "Epoch 9/50\n",
            "260/260 [==============================] - 36s 137ms/step - loss: 0.0908\n",
            "Epoch 10/50\n",
            "260/260 [==============================] - 35s 135ms/step - loss: 0.0783\n",
            "Epoch 11/50\n",
            "260/260 [==============================] - 36s 137ms/step - loss: 0.0714\n",
            "Epoch 12/50\n",
            "260/260 [==============================] - 36s 137ms/step - loss: 0.0625\n",
            "Epoch 13/50\n",
            "260/260 [==============================] - 36s 137ms/step - loss: 0.0550\n",
            "Epoch 14/50\n",
            "260/260 [==============================] - 36s 139ms/step - loss: 0.0552\n",
            "Epoch 15/50\n",
            "260/260 [==============================] - 36s 139ms/step - loss: 0.0511\n",
            "Epoch 16/50\n",
            "260/260 [==============================] - 36s 138ms/step - loss: 0.0527\n",
            "Epoch 17/50\n",
            "260/260 [==============================] - 36s 140ms/step - loss: 0.0458\n",
            "Epoch 18/50\n",
            "260/260 [==============================] - 37s 141ms/step - loss: 0.0423\n",
            "Epoch 19/50\n",
            "260/260 [==============================] - 36s 138ms/step - loss: 0.0428\n",
            "Epoch 20/50\n",
            "260/260 [==============================] - 36s 138ms/step - loss: 0.0451\n",
            "Epoch 21/50\n",
            "260/260 [==============================] - 36s 139ms/step - loss: 0.0417\n",
            "Epoch 22/50\n",
            "260/260 [==============================] - 36s 138ms/step - loss: 0.0369\n",
            "Epoch 23/50\n",
            "260/260 [==============================] - 36s 137ms/step - loss: 0.0366\n",
            "Epoch 24/50\n",
            "260/260 [==============================] - 36s 139ms/step - loss: 0.0371\n",
            "Epoch 25/50\n",
            "260/260 [==============================] - 36s 137ms/step - loss: 0.0316\n",
            "Epoch 26/50\n",
            "260/260 [==============================] - 36s 137ms/step - loss: 0.0344\n",
            "Epoch 27/50\n",
            "260/260 [==============================] - 35s 136ms/step - loss: 0.0370\n",
            "Epoch 28/50\n",
            "260/260 [==============================] - 36s 139ms/step - loss: 0.0317\n",
            "Epoch 29/50\n",
            "260/260 [==============================] - 36s 138ms/step - loss: 0.0333\n",
            "Epoch 30/50\n",
            "260/260 [==============================] - 35s 136ms/step - loss: 0.0341\n",
            "Epoch 31/50\n",
            "260/260 [==============================] - 36s 138ms/step - loss: 0.0287\n",
            "Epoch 32/50\n",
            "260/260 [==============================] - 35s 137ms/step - loss: 0.0265\n",
            "Epoch 33/50\n",
            "260/260 [==============================] - 36s 137ms/step - loss: 0.0275\n",
            "Epoch 34/50\n",
            "260/260 [==============================] - 36s 137ms/step - loss: 0.0334\n",
            "Epoch 35/50\n",
            "260/260 [==============================] - 36s 137ms/step - loss: 0.0259\n",
            "Epoch 36/50\n",
            "260/260 [==============================] - 36s 138ms/step - loss: 0.0271\n",
            "Epoch 37/50\n",
            "260/260 [==============================] - 36s 138ms/step - loss: 0.0258\n",
            "Epoch 38/50\n",
            "260/260 [==============================] - 36s 138ms/step - loss: 0.0317\n",
            "Epoch 39/50\n",
            "260/260 [==============================] - 36s 139ms/step - loss: 0.0280\n",
            "Epoch 40/50\n",
            "260/260 [==============================] - 36s 138ms/step - loss: 0.0238\n",
            "Epoch 41/50\n",
            "260/260 [==============================] - 36s 137ms/step - loss: 0.0296\n",
            "Epoch 42/50\n",
            "260/260 [==============================] - 36s 139ms/step - loss: 0.0308\n",
            "Epoch 43/50\n",
            "260/260 [==============================] - 36s 137ms/step - loss: 0.0259\n",
            "Epoch 44/50\n",
            "260/260 [==============================] - 36s 138ms/step - loss: 0.0237\n",
            "Epoch 45/50\n",
            "260/260 [==============================] - 36s 138ms/step - loss: 0.0260\n",
            "Epoch 46/50\n",
            "260/260 [==============================] - 36s 137ms/step - loss: 0.0297\n",
            "Epoch 47/50\n",
            "260/260 [==============================] - 36s 138ms/step - loss: 0.0264\n",
            "Epoch 48/50\n",
            "260/260 [==============================] - 36s 138ms/step - loss: 0.0241\n",
            "Epoch 49/50\n",
            "260/260 [==============================] - 36s 138ms/step - loss: 0.0219\n",
            "Epoch 50/50\n",
            "260/260 [==============================] - 35s 136ms/step - loss: 0.0233\n"
          ],
          "name": "stdout"
        },
        {
          "output_type": "execute_result",
          "data": {
            "text/plain": [
              "<tensorflow.python.keras.callbacks.History at 0x7f5abb5deb90>"
            ]
          },
          "metadata": {
            "tags": []
          },
          "execution_count": 39
        }
      ]
    },
    {
      "cell_type": "code",
      "metadata": {
        "id": "F3p7u_MdfgMp",
        "colab": {
          "base_uri": "https://localhost:8080/"
        },
        "outputId": "7e584792-c03a-472f-8511-f7d1206751d1"
      },
      "source": [
        "y_pred = model_11.predict(test_padded)\n",
        "y_pred = np.where(y_pred >= 0.5, 1, 0)\n",
        "print(classification_report(y_test,y_pred))"
      ],
      "execution_count": 40,
      "outputs": [
        {
          "output_type": "stream",
          "text": [
            "              precision    recall  f1-score   support\n",
            "\n",
            "           0       0.84      0.82      0.83      3306\n",
            "           1       0.82      0.84      0.83      3174\n",
            "\n",
            "    accuracy                           0.83      6480\n",
            "   macro avg       0.83      0.83      0.83      6480\n",
            "weighted avg       0.83      0.83      0.83      6480\n",
            "\n"
          ],
          "name": "stdout"
        }
      ]
    },
    {
      "cell_type": "code",
      "metadata": {
        "id": "9lfnI-lTfgTT"
      },
      "source": [
        "# Bidirectional GRU with single layer\n",
        "\n",
        "model_12 = Sequential()\n",
        "model_12.add(Embedding(vocab_len, 10, input_length=max_len, mask_zero=True))\n",
        "model_12.add(Bidirectional(GRU(32, activation=\"tanh\")))\n",
        "model_12.add(Dense(16, activation=\"tanh\"))\n",
        "model_12.add(Dense(1,activation=\"sigmoid\"))"
      ],
      "execution_count": null,
      "outputs": []
    },
    {
      "cell_type": "code",
      "metadata": {
        "id": "qdiEDNjKfgU5",
        "colab": {
          "base_uri": "https://localhost:8080/"
        },
        "outputId": "c2bd39e9-3ad4-40fe-d682-e52129d3f18b"
      },
      "source": [
        "model_12.compile(loss=\"binary_crossentropy\", optimizer=\"adam\")\n",
        "model_12.fit(train_padded,y_train,epochs=50,batch_size=100)"
      ],
      "execution_count": null,
      "outputs": [
        {
          "output_type": "stream",
          "text": [
            "Epoch 1/50\n",
            "173/173 [==============================] - 31s 146ms/step - loss: 0.4859\n",
            "Epoch 2/50\n",
            "173/173 [==============================] - 25s 147ms/step - loss: 0.2624\n",
            "Epoch 3/50\n",
            "173/173 [==============================] - 25s 147ms/step - loss: 0.1939\n",
            "Epoch 4/50\n",
            "173/173 [==============================] - 25s 147ms/step - loss: 0.1458\n",
            "Epoch 5/50\n",
            "173/173 [==============================] - 25s 147ms/step - loss: 0.1121\n",
            "Epoch 6/50\n",
            "173/173 [==============================] - 25s 147ms/step - loss: 0.0901\n",
            "Epoch 7/50\n",
            "173/173 [==============================] - 25s 147ms/step - loss: 0.0709\n",
            "Epoch 8/50\n",
            "173/173 [==============================] - 25s 147ms/step - loss: 0.0597\n",
            "Epoch 9/50\n",
            "173/173 [==============================] - 25s 147ms/step - loss: 0.0514\n",
            "Epoch 10/50\n",
            "173/173 [==============================] - 26s 148ms/step - loss: 0.0403\n",
            "Epoch 11/50\n",
            "173/173 [==============================] - 26s 147ms/step - loss: 0.0341\n",
            "Epoch 12/50\n",
            "173/173 [==============================] - 26s 148ms/step - loss: 0.0272\n",
            "Epoch 13/50\n",
            "173/173 [==============================] - 26s 148ms/step - loss: 0.0230\n",
            "Epoch 14/50\n",
            "173/173 [==============================] - 26s 148ms/step - loss: 0.0231\n",
            "Epoch 15/50\n",
            "173/173 [==============================] - 26s 148ms/step - loss: 0.0273\n",
            "Epoch 16/50\n",
            "173/173 [==============================] - 26s 147ms/step - loss: 0.0234\n",
            "Epoch 17/50\n",
            "173/173 [==============================] - 26s 147ms/step - loss: 0.0167\n",
            "Epoch 18/50\n",
            "173/173 [==============================] - 26s 148ms/step - loss: 0.0154\n",
            "Epoch 19/50\n",
            "173/173 [==============================] - 26s 148ms/step - loss: 0.0118\n",
            "Epoch 20/50\n",
            "173/173 [==============================] - 26s 148ms/step - loss: 0.0113\n",
            "Epoch 21/50\n",
            "173/173 [==============================] - 25s 147ms/step - loss: 0.0149\n",
            "Epoch 22/50\n",
            "173/173 [==============================] - 26s 148ms/step - loss: 0.0147\n",
            "Epoch 23/50\n",
            "173/173 [==============================] - 25s 147ms/step - loss: 0.0147\n",
            "Epoch 24/50\n",
            "173/173 [==============================] - 26s 148ms/step - loss: 0.0114\n",
            "Epoch 25/50\n",
            "173/173 [==============================] - 26s 148ms/step - loss: 0.0093\n",
            "Epoch 26/50\n",
            "173/173 [==============================] - 26s 149ms/step - loss: 0.0125\n",
            "Epoch 27/50\n",
            "173/173 [==============================] - 26s 149ms/step - loss: 0.0111\n",
            "Epoch 28/50\n",
            "173/173 [==============================] - 26s 149ms/step - loss: 0.0089\n",
            "Epoch 29/50\n",
            "173/173 [==============================] - 26s 149ms/step - loss: 0.0072\n",
            "Epoch 30/50\n",
            "173/173 [==============================] - 26s 149ms/step - loss: 0.0053\n",
            "Epoch 31/50\n",
            "173/173 [==============================] - 26s 149ms/step - loss: 0.0073\n",
            "Epoch 32/50\n",
            "173/173 [==============================] - 26s 149ms/step - loss: 0.0122\n",
            "Epoch 33/50\n",
            "173/173 [==============================] - 26s 149ms/step - loss: 0.0138\n",
            "Epoch 34/50\n",
            "173/173 [==============================] - 26s 148ms/step - loss: 0.0160\n",
            "Epoch 35/50\n",
            "173/173 [==============================] - 26s 148ms/step - loss: 0.0086\n",
            "Epoch 36/50\n",
            "173/173 [==============================] - 26s 148ms/step - loss: 0.0058\n",
            "Epoch 37/50\n",
            "173/173 [==============================] - 26s 148ms/step - loss: 0.0045\n",
            "Epoch 38/50\n",
            "173/173 [==============================] - 26s 147ms/step - loss: 0.0042\n",
            "Epoch 39/50\n",
            "173/173 [==============================] - 26s 148ms/step - loss: 0.0041\n",
            "Epoch 40/50\n",
            "173/173 [==============================] - 26s 148ms/step - loss: 0.0039\n",
            "Epoch 41/50\n",
            "173/173 [==============================] - 26s 148ms/step - loss: 0.0038\n",
            "Epoch 42/50\n",
            "173/173 [==============================] - 26s 148ms/step - loss: 0.0036\n",
            "Epoch 43/50\n",
            "173/173 [==============================] - 26s 149ms/step - loss: 0.0036\n",
            "Epoch 44/50\n",
            "173/173 [==============================] - 26s 148ms/step - loss: 0.0036\n",
            "Epoch 45/50\n",
            "173/173 [==============================] - 26s 148ms/step - loss: 0.0035\n",
            "Epoch 46/50\n",
            "173/173 [==============================] - 26s 148ms/step - loss: 0.0035\n",
            "Epoch 47/50\n",
            "173/173 [==============================] - 26s 148ms/step - loss: 0.0035\n",
            "Epoch 48/50\n",
            "173/173 [==============================] - 26s 149ms/step - loss: 0.0035\n",
            "Epoch 49/50\n",
            "173/173 [==============================] - 26s 149ms/step - loss: 0.0035\n",
            "Epoch 50/50\n",
            "173/173 [==============================] - 26s 149ms/step - loss: 0.0035\n"
          ],
          "name": "stdout"
        },
        {
          "output_type": "execute_result",
          "data": {
            "text/plain": [
              "<tensorflow.python.keras.callbacks.History at 0x7fedf777a810>"
            ]
          },
          "metadata": {
            "tags": []
          },
          "execution_count": 70
        }
      ]
    },
    {
      "cell_type": "code",
      "metadata": {
        "id": "YPAvq8iwgVS3",
        "colab": {
          "base_uri": "https://localhost:8080/"
        },
        "outputId": "6fe3056d-6a0f-4d7c-fb60-512ee71618f4"
      },
      "source": [
        "y_pred = model_12.predict(test_padded)\n",
        "y_pred = np.where(y_pred >= 0.5, 1, 0)\n",
        "print(classification_report(y_test,y_pred))"
      ],
      "execution_count": null,
      "outputs": [
        {
          "output_type": "stream",
          "text": [
            "              precision    recall  f1-score   support\n",
            "\n",
            "           0       0.84      0.83      0.84      3306\n",
            "           1       0.83      0.84      0.83      3174\n",
            "\n",
            "    accuracy                           0.84      6480\n",
            "   macro avg       0.83      0.84      0.83      6480\n",
            "weighted avg       0.84      0.84      0.84      6480\n",
            "\n"
          ],
          "name": "stdout"
        }
      ]
    },
    {
      "cell_type": "code",
      "metadata": {
        "id": "j6Qro8xagVXu"
      },
      "source": [
        "# Bidirectional GRU with multiple layer\n",
        "\n",
        "model_13 = Sequential()\n",
        "model_13.add(Embedding(vocab_len, 10, input_length=max_len, mask_zero=True))\n",
        "model_13.add(Bidirectional(GRU(32, activation=\"tanh\", return_sequences=True)))\n",
        "model_13.add(Bidirectional(GRU(32, activation=\"tanh\")))\n",
        "model_13.add(Dense(16, activation=\"tanh\"))\n",
        "model_13.add(Dense(1,activation=\"sigmoid\"))"
      ],
      "execution_count": null,
      "outputs": []
    },
    {
      "cell_type": "code",
      "metadata": {
        "id": "47dQJ18-gVd6",
        "colab": {
          "base_uri": "https://localhost:8080/"
        },
        "outputId": "296b4295-b44f-49c2-be77-ec9050ba1f45"
      },
      "source": [
        "model_13.compile(loss=\"binary_crossentropy\", optimizer=\"adam\")\n",
        "model_13.fit(train_padded,y_train,epochs=50,batch_size=100)"
      ],
      "execution_count": null,
      "outputs": [
        {
          "output_type": "stream",
          "text": [
            "Epoch 1/50\n",
            "173/173 [==============================] - 68s 320ms/step - loss: 0.4581\n",
            "Epoch 2/50\n",
            "173/173 [==============================] - 55s 317ms/step - loss: 0.2566\n",
            "Epoch 3/50\n",
            "173/173 [==============================] - 55s 317ms/step - loss: 0.1771\n",
            "Epoch 4/50\n",
            "173/173 [==============================] - 55s 319ms/step - loss: 0.1308\n",
            "Epoch 5/50\n",
            "173/173 [==============================] - 55s 320ms/step - loss: 0.0966\n",
            "Epoch 6/50\n",
            "173/173 [==============================] - 55s 318ms/step - loss: 0.0777\n",
            "Epoch 7/50\n",
            "173/173 [==============================] - 55s 317ms/step - loss: 0.0628\n",
            "Epoch 8/50\n",
            "173/173 [==============================] - 55s 316ms/step - loss: 0.0516\n",
            "Epoch 9/50\n",
            "173/173 [==============================] - 55s 318ms/step - loss: 0.0454\n",
            "Epoch 10/50\n",
            "173/173 [==============================] - 55s 319ms/step - loss: 0.0396\n",
            "Epoch 11/50\n",
            "173/173 [==============================] - 55s 319ms/step - loss: 0.0356\n",
            "Epoch 12/50\n",
            "173/173 [==============================] - 55s 318ms/step - loss: 0.0307\n",
            "Epoch 13/50\n",
            "173/173 [==============================] - 55s 317ms/step - loss: 0.0322\n",
            "Epoch 14/50\n",
            "173/173 [==============================] - 55s 317ms/step - loss: 0.0283\n",
            "Epoch 15/50\n",
            "173/173 [==============================] - 55s 318ms/step - loss: 0.0257\n",
            "Epoch 16/50\n",
            "173/173 [==============================] - 55s 319ms/step - loss: 0.0248\n",
            "Epoch 17/50\n",
            "173/173 [==============================] - 55s 319ms/step - loss: 0.0232\n",
            "Epoch 18/50\n",
            "173/173 [==============================] - 55s 316ms/step - loss: 0.0213\n",
            "Epoch 19/50\n",
            "173/173 [==============================] - 54s 315ms/step - loss: 0.0195\n",
            "Epoch 20/50\n",
            "173/173 [==============================] - 55s 315ms/step - loss: 0.0177\n",
            "Epoch 21/50\n",
            "173/173 [==============================] - 55s 316ms/step - loss: 0.0203\n",
            "Epoch 22/50\n",
            "173/173 [==============================] - 55s 316ms/step - loss: 0.0169\n",
            "Epoch 23/50\n",
            "173/173 [==============================] - 55s 317ms/step - loss: 0.0153\n",
            "Epoch 24/50\n",
            "173/173 [==============================] - 55s 319ms/step - loss: 0.0177\n",
            "Epoch 25/50\n",
            "173/173 [==============================] - 55s 318ms/step - loss: 0.0163\n",
            "Epoch 26/50\n",
            "173/173 [==============================] - 55s 319ms/step - loss: 0.0138\n",
            "Epoch 27/50\n",
            "173/173 [==============================] - 55s 317ms/step - loss: 0.0133\n",
            "Epoch 28/50\n",
            "173/173 [==============================] - 54s 314ms/step - loss: 0.0156\n",
            "Epoch 29/50\n",
            "173/173 [==============================] - 55s 316ms/step - loss: 0.0174\n",
            "Epoch 30/50\n",
            "173/173 [==============================] - 55s 317ms/step - loss: 0.0168\n",
            "Epoch 31/50\n",
            "173/173 [==============================] - 55s 316ms/step - loss: 0.0126\n",
            "Epoch 32/50\n",
            "173/173 [==============================] - 55s 317ms/step - loss: 0.0123\n",
            "Epoch 33/50\n",
            "173/173 [==============================] - 55s 320ms/step - loss: 0.0119\n",
            "Epoch 34/50\n",
            "173/173 [==============================] - 55s 319ms/step - loss: 0.0123\n",
            "Epoch 35/50\n",
            "173/173 [==============================] - 55s 320ms/step - loss: 0.0106\n",
            "Epoch 36/50\n",
            "173/173 [==============================] - 55s 319ms/step - loss: 0.0120\n",
            "Epoch 37/50\n",
            "173/173 [==============================] - 55s 320ms/step - loss: 0.0119\n",
            "Epoch 38/50\n",
            "173/173 [==============================] - 55s 319ms/step - loss: 0.0162\n",
            "Epoch 39/50\n",
            "173/173 [==============================] - 55s 320ms/step - loss: 0.0121\n",
            "Epoch 40/50\n",
            "173/173 [==============================] - 55s 320ms/step - loss: 0.0103\n",
            "Epoch 41/50\n",
            "173/173 [==============================] - 55s 320ms/step - loss: 0.0094\n",
            "Epoch 42/50\n",
            "173/173 [==============================] - 55s 320ms/step - loss: 0.0081\n",
            "Epoch 43/50\n",
            "173/173 [==============================] - 55s 319ms/step - loss: 0.0099\n",
            "Epoch 44/50\n",
            "173/173 [==============================] - 55s 318ms/step - loss: 0.0143\n",
            "Epoch 45/50\n",
            "173/173 [==============================] - 55s 320ms/step - loss: 0.0135\n",
            "Epoch 46/50\n",
            "173/173 [==============================] - 55s 320ms/step - loss: 0.0109\n",
            "Epoch 47/50\n",
            "173/173 [==============================] - 55s 321ms/step - loss: 0.0079\n",
            "Epoch 48/50\n",
            "173/173 [==============================] - 56s 321ms/step - loss: 0.0080\n",
            "Epoch 49/50\n",
            "173/173 [==============================] - 56s 321ms/step - loss: 0.0084\n",
            "Epoch 50/50\n",
            "173/173 [==============================] - 56s 321ms/step - loss: 0.0074\n"
          ],
          "name": "stdout"
        },
        {
          "output_type": "execute_result",
          "data": {
            "text/plain": [
              "<tensorflow.python.keras.callbacks.History at 0x7fedf8b621d0>"
            ]
          },
          "metadata": {
            "tags": []
          },
          "execution_count": 73
        }
      ]
    },
    {
      "cell_type": "code",
      "metadata": {
        "id": "6HpA6faTgatE",
        "colab": {
          "base_uri": "https://localhost:8080/"
        },
        "outputId": "76a54671-751a-453f-fa24-ce21d6b3883b"
      },
      "source": [
        "y_pred = model_13.predict(test_padded)\n",
        "y_pred = np.where(y_pred >= 0.5, 1, 0)\n",
        "print(classification_report(y_test,y_pred))"
      ],
      "execution_count": null,
      "outputs": [
        {
          "output_type": "stream",
          "text": [
            "              precision    recall  f1-score   support\n",
            "\n",
            "           0       0.84      0.84      0.84      3306\n",
            "           1       0.83      0.83      0.83      3174\n",
            "\n",
            "    accuracy                           0.84      6480\n",
            "   macro avg       0.83      0.84      0.83      6480\n",
            "weighted avg       0.84      0.84      0.84      6480\n",
            "\n"
          ],
          "name": "stdout"
        }
      ]
    },
    {
      "cell_type": "code",
      "metadata": {
        "id": "-nYZHRs_gbIa"
      },
      "source": [
        "\n",
        "\n",
        "\n",
        "\n",
        "\n",
        "\n",
        "\n",
        "\n"
      ],
      "execution_count": null,
      "outputs": []
    }
  ]
}